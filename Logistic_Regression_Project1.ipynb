{
  "cells": [
    {
      "cell_type": "markdown",
      "metadata": {
        "id": "view-in-github",
        "colab_type": "text"
      },
      "source": [
        "<a href=\"https://colab.research.google.com/github/RanojoyBiswas/PySpark-Practice/blob/main/Logistic_Regression_Project1.ipynb\" target=\"_parent\"><img src=\"https://colab.research.google.com/assets/colab-badge.svg\" alt=\"Open In Colab\"/></a>"
      ]
    },
    {
      "cell_type": "markdown",
      "metadata": {
        "id": "0Gr-o9Hi0xkr"
      },
      "source": [
        "# Logistic Regression Consulting Project"
      ]
    },
    {
      "cell_type": "markdown",
      "metadata": {
        "collapsed": true,
        "id": "5iXOZi-t0xku"
      },
      "source": [
        "## Binary Customer Churn\n",
        "\n",
        "A marketing agency has many customers that use their service to produce ads for the client/customer websites. They've noticed that they have quite a bit of churn in clients. They basically randomly assign account managers right now, but want you to create a machine learning model that will help predict which customers will churn (stop buying their service) so that they can correctly assign the customers most at risk to churn an account manager. Luckily they have some historical data, can you help them out? Create a classification algorithm that will help classify whether or not a customer churned. Then the company can test this against incoming data for future customers to predict which customers will churn and assign them an account manager.\n",
        "\n",
        "The data is saved as customer_churn.csv. Here are the fields and their definitions:\n",
        "\n",
        "    Name : Name of the latest contact at Company\n",
        "    Age: Customer Age\n",
        "    Total_Purchase: Total Ads Purchased\n",
        "    Account_Manager: Binary 0=No manager, 1= Account manager assigned\n",
        "    Years: Totaly Years as a customer\n",
        "    Num_sites: Number of websites that use the service.\n",
        "    Onboard_date: Date that the name of the latest contact was onboarded\n",
        "    Location: Client HQ Address\n",
        "    Company: Name of Client Company\n",
        "    \n",
        "Once you've created the model and evaluated it, test out the model on some new data (you can think of this almost like a hold-out set) that your client has provided, saved under new_customers.csv. The client wants to know which customers are most likely to churn given this data (they don't have the label yet)."
      ]
    },
    {
      "cell_type": "code",
      "source": [
        "pip install pyspark"
      ],
      "metadata": {
        "colab": {
          "base_uri": "https://localhost:8080/"
        },
        "id": "I1tL9OMZ0zZB",
        "outputId": "070db6b2-ca1c-403f-c9c1-c077a33ef75e"
      },
      "execution_count": 1,
      "outputs": [
        {
          "output_type": "stream",
          "name": "stdout",
          "text": [
            "Looking in indexes: https://pypi.org/simple, https://us-python.pkg.dev/colab-wheels/public/simple/\n",
            "Collecting pyspark\n",
            "  Downloading pyspark-3.3.2.tar.gz (281.4 MB)\n",
            "\u001b[2K     \u001b[90m━━━━━━━━━━━━━━━━━━━━━━━━━━━━━━━━━━━━━━━\u001b[0m \u001b[32m281.4/281.4 MB\u001b[0m \u001b[31m4.3 MB/s\u001b[0m eta \u001b[36m0:00:00\u001b[0m\n",
            "\u001b[?25h  Preparing metadata (setup.py) ... \u001b[?25l\u001b[?25hdone\n",
            "Collecting py4j==0.10.9.5\n",
            "  Downloading py4j-0.10.9.5-py2.py3-none-any.whl (199 kB)\n",
            "\u001b[2K     \u001b[90m━━━━━━━━━━━━━━━━━━━━━━━━━━━━━━━━━━━━━━\u001b[0m \u001b[32m199.7/199.7 KB\u001b[0m \u001b[31m17.8 MB/s\u001b[0m eta \u001b[36m0:00:00\u001b[0m\n",
            "\u001b[?25hBuilding wheels for collected packages: pyspark\n",
            "  Building wheel for pyspark (setup.py) ... \u001b[?25l\u001b[?25hdone\n",
            "  Created wheel for pyspark: filename=pyspark-3.3.2-py2.py3-none-any.whl size=281824028 sha256=8616d87a60e7badef1dcb5e1c670ec2d87e4a2671819efbbb9f9c931600f9d6e\n",
            "  Stored in directory: /root/.cache/pip/wheels/6c/e3/9b/0525ce8a69478916513509d43693511463c6468db0de237c86\n",
            "Successfully built pyspark\n",
            "Installing collected packages: py4j, pyspark\n",
            "  Attempting uninstall: py4j\n",
            "    Found existing installation: py4j 0.10.9.7\n",
            "    Uninstalling py4j-0.10.9.7:\n",
            "      Successfully uninstalled py4j-0.10.9.7\n",
            "Successfully installed py4j-0.10.9.5 pyspark-3.3.2\n"
          ]
        }
      ]
    },
    {
      "cell_type": "code",
      "source": [
        "from pyspark.sql import SparkSession"
      ],
      "metadata": {
        "id": "rk_I3yKw2oeF"
      },
      "execution_count": 3,
      "outputs": []
    },
    {
      "cell_type": "code",
      "source": [
        "spark = SparkSession.builder.appName('Logistic_project').getOrCreate()"
      ],
      "metadata": {
        "id": "cnBBXro82ubb"
      },
      "execution_count": 4,
      "outputs": []
    },
    {
      "cell_type": "code",
      "source": [
        "from google.colab import drive\n",
        "drive.mount('/content/drive')"
      ],
      "metadata": {
        "colab": {
          "base_uri": "https://localhost:8080/"
        },
        "id": "34ZpFejr3C-c",
        "outputId": "19aa471e-5117-46cc-a331-6cdfa1d26308"
      },
      "execution_count": 5,
      "outputs": [
        {
          "output_type": "stream",
          "name": "stdout",
          "text": [
            "Mounted at /content/drive\n"
          ]
        }
      ]
    },
    {
      "cell_type": "code",
      "source": [
        "df = spark.read.csv('/content/drive/MyDrive/Pyspark Practice/Python-and-Spark-for-Big-Data-master/Spark_for_Machine_Learning/Logistic_Regression/customer_churn.csv',\n",
        "                    inferSchema = True, header = True)"
      ],
      "metadata": {
        "id": "Ir9JEOVW3EEb"
      },
      "execution_count": 6,
      "outputs": []
    },
    {
      "cell_type": "code",
      "source": [
        "df.printSchema()"
      ],
      "metadata": {
        "colab": {
          "base_uri": "https://localhost:8080/"
        },
        "id": "I1Hcole93c9l",
        "outputId": "e7e95f71-77fc-43f8-c102-eb5d41be096d"
      },
      "execution_count": 8,
      "outputs": [
        {
          "output_type": "stream",
          "name": "stdout",
          "text": [
            "root\n",
            " |-- Names: string (nullable = true)\n",
            " |-- Age: double (nullable = true)\n",
            " |-- Total_Purchase: double (nullable = true)\n",
            " |-- Account_Manager: integer (nullable = true)\n",
            " |-- Years: double (nullable = true)\n",
            " |-- Num_Sites: double (nullable = true)\n",
            " |-- Onboard_date: timestamp (nullable = true)\n",
            " |-- Location: string (nullable = true)\n",
            " |-- Company: string (nullable = true)\n",
            " |-- Churn: integer (nullable = true)\n",
            "\n"
          ]
        }
      ]
    },
    {
      "cell_type": "code",
      "source": [
        "df.describe().show()"
      ],
      "metadata": {
        "colab": {
          "base_uri": "https://localhost:8080/"
        },
        "id": "fM2UtXsZ3ewc",
        "outputId": "333c3ca9-5193-40e6-c611-1ad89f453b06"
      },
      "execution_count": 11,
      "outputs": [
        {
          "output_type": "stream",
          "name": "stdout",
          "text": [
            "+-------+-------------+-----------------+-----------------+------------------+-----------------+------------------+--------------------+--------------------+-------------------+\n",
            "|summary|        Names|              Age|   Total_Purchase|   Account_Manager|            Years|         Num_Sites|            Location|             Company|              Churn|\n",
            "+-------+-------------+-----------------+-----------------+------------------+-----------------+------------------+--------------------+--------------------+-------------------+\n",
            "|  count|          900|              900|              900|               900|              900|               900|                 900|                 900|                900|\n",
            "|   mean|         null|41.81666666666667|10062.82403333334|0.4811111111111111| 5.27315555555555| 8.587777777777777|                null|                null|0.16666666666666666|\n",
            "| stddev|         null|6.127560416916251|2408.644531858096|0.4999208935073339|1.274449013194616|1.7648355920350969|                null|                null| 0.3728852122772358|\n",
            "|    min|   Aaron King|             22.0|            100.0|                 0|              1.0|               3.0|00103 Jeffrey Cre...|     Abbott-Thompson|                  0|\n",
            "|    max|Zachary Walsh|             65.0|         18026.01|                 1|             9.15|              14.0|Unit 9800 Box 287...|Zuniga, Clark and...|                  1|\n",
            "+-------+-------------+-----------------+-----------------+------------------+-----------------+------------------+--------------------+--------------------+-------------------+\n",
            "\n"
          ]
        }
      ]
    },
    {
      "cell_type": "code",
      "source": [
        "df.columns"
      ],
      "metadata": {
        "colab": {
          "base_uri": "https://localhost:8080/"
        },
        "id": "vgY9g_3p3gCr",
        "outputId": "2023c49e-4543-4f2b-a246-256944e0c4bb"
      },
      "execution_count": 10,
      "outputs": [
        {
          "output_type": "execute_result",
          "data": {
            "text/plain": [
              "['Names',\n",
              " 'Age',\n",
              " 'Total_Purchase',\n",
              " 'Account_Manager',\n",
              " 'Years',\n",
              " 'Num_Sites',\n",
              " 'Onboard_date',\n",
              " 'Location',\n",
              " 'Company',\n",
              " 'Churn']"
            ]
          },
          "metadata": {},
          "execution_count": 10
        }
      ]
    },
    {
      "cell_type": "code",
      "source": [
        "import matplotlib.pyplot as plt\n",
        "import seaborn as sns\n",
        "import pandas as pd"
      ],
      "metadata": {
        "id": "DitMPJds5Afp"
      },
      "execution_count": 25,
      "outputs": []
    },
    {
      "cell_type": "code",
      "source": [
        "# df.groupBy('Age').count().show()\n",
        "sns.histplot(df.select('Age').toPandas(), kde= True)\n",
        "plt.show()"
      ],
      "metadata": {
        "colab": {
          "base_uri": "https://localhost:8080/",
          "height": 904
        },
        "id": "OV0C4MbV3g8j",
        "outputId": "3b258503-6305-4440-ae51-14dfda07267e"
      },
      "execution_count": 24,
      "outputs": [
        {
          "output_type": "stream",
          "name": "stdout",
          "text": [
            "+----+-----+\n",
            "| Age|count|\n",
            "+----+-----+\n",
            "|49.0|   30|\n",
            "|29.0|    9|\n",
            "|47.0|   29|\n",
            "|42.0|   49|\n",
            "|44.0|   53|\n",
            "|35.0|   32|\n",
            "|39.0|   48|\n",
            "|37.0|   48|\n",
            "|34.0|   25|\n",
            "|25.0|    1|\n",
            "|36.0|   39|\n",
            "|41.0|   69|\n",
            "|56.0|    5|\n",
            "|50.0|   15|\n",
            "|45.0|   56|\n",
            "|31.0|   11|\n",
            "|58.0|    2|\n",
            "|51.0|   21|\n",
            "|48.0|   36|\n",
            "|22.0|    1|\n",
            "+----+-----+\n",
            "only showing top 20 rows\n",
            "\n"
          ]
        },
        {
          "output_type": "display_data",
          "data": {
            "text/plain": [
              "<Figure size 640x480 with 1 Axes>"
            ],
            "image/png": "[encoded data removed]"
          },
          "metadata": {}
        }
      ]
    },
    {
      "cell_type": "code",
      "source": [
        "counts = df.groupBy('Account_Manager').count().toPandas()\n",
        "\n",
        "plt.figure(figsize=(5,3))\n",
        "# create a pie chart using PySpark and Matplotlib\n",
        "counts_dict = dict(counts.values)\n",
        "labels = [0, 1]\n",
        "sizes = [counts_dict[label] for label in labels]\n",
        "plt.pie(sizes, labels=labels, autopct='%1.1f%%')\n",
        "plt.title('Account Manager Counts')\n",
        "# display the plot\n",
        "plt.show()"
      ],
      "metadata": {
        "colab": {
          "base_uri": "https://localhost:8080/",
          "height": 290
        },
        "id": "pfGk_s4c3xxr",
        "outputId": "b2432a14-329c-4cae-bed9-21974887e829"
      },
      "execution_count": 37,
      "outputs": [
        {
          "output_type": "display_data",
          "data": {
            "text/plain": [
              "<Figure size 500x300 with 1 Axes>"
            ],
            "image/png": "[encoded data removed]"
          },
          "metadata": {}
        }
      ]
    },
    {
      "cell_type": "code",
      "source": [
        "# df.groupBy('Total_Purchase').count().show()\n",
        "sns.histplot(df.select('Total_Purchase').toPandas(), kde= True)\n",
        "plt.show()"
      ],
      "metadata": {
        "colab": {
          "base_uri": "https://localhost:8080/",
          "height": 432
        },
        "id": "5SzJMg2c5Kmi",
        "outputId": "dc89f137-9bf0-41b9-e4c1-73166566af35"
      },
      "execution_count": 39,
      "outputs": [
        {
          "output_type": "display_data",
          "data": {
            "text/plain": [
              "<Figure size 640x480 with 1 Axes>"
            ],
            "image/png": "[encoded data removed]"
          },
          "metadata": {}
        }
      ]
    },
    {
      "cell_type": "code",
      "source": [
        "# df.groupBy('Years').count().show()\n",
        "sns.histplot(df.select('Years').toPandas(), kde= True)\n",
        "plt.show()"
      ],
      "metadata": {
        "colab": {
          "base_uri": "https://localhost:8080/",
          "height": 430
        },
        "id": "ItpFYphU6osa",
        "outputId": "06f80a9d-cb12-4ddc-8a23-69877226c296"
      },
      "execution_count": 41,
      "outputs": [
        {
          "output_type": "display_data",
          "data": {
            "text/plain": [
              "<Figure size 640x480 with 1 Axes>"
            ],
            "image/png": "[encoded data removed]"
          },
          "metadata": {}
        }
      ]
    },
    {
      "cell_type": "code",
      "source": [
        "df.groupBy('Num_Sites').count().show()\n",
        "sns.histplot(df.select('Num_Sites').toPandas(), kde= True)\n",
        "plt.show()"
      ],
      "metadata": {
        "colab": {
          "base_uri": "https://localhost:8080/",
          "height": 740
        },
        "id": "-YHkSLBPA2FA",
        "outputId": "fb696842-06c7-4251-e305-04360b5bad9e"
      },
      "execution_count": 63,
      "outputs": [
        {
          "output_type": "stream",
          "name": "stdout",
          "text": [
            "+---------+-----+\n",
            "|Num_Sites|count|\n",
            "+---------+-----+\n",
            "|      8.0|  213|\n",
            "|      7.0|  146|\n",
            "|      4.0|    4|\n",
            "|     11.0|   83|\n",
            "|     14.0|    6|\n",
            "|      3.0|    2|\n",
            "|     10.0|  131|\n",
            "|     13.0|    8|\n",
            "|      6.0|   67|\n",
            "|      5.0|   22|\n",
            "|      9.0|  186|\n",
            "|     12.0|   32|\n",
            "+---------+-----+\n",
            "\n"
          ]
        },
        {
          "output_type": "display_data",
          "data": {
            "text/plain": [
              "<Figure size 640x480 with 1 Axes>"
            ],
            "image/png": "[encoded data removed]"
          },
          "metadata": {}
        }
      ]
    },
    {
      "cell_type": "code",
      "source": [
        "df.select(['Onboard_date', 'Churn']).show()"
      ],
      "metadata": {
        "colab": {
          "base_uri": "https://localhost:8080/"
        },
        "id": "jsSP3s0-7nFF",
        "outputId": "39e4ac13-c370-48ea-e7c9-4ad8dcbcd602"
      },
      "execution_count": 42,
      "outputs": [
        {
          "output_type": "stream",
          "name": "stdout",
          "text": [
            "+-------------------+-----+\n",
            "|       Onboard_date|Churn|\n",
            "+-------------------+-----+\n",
            "|2013-08-30 07:00:40|    1|\n",
            "|2013-08-13 00:38:46|    1|\n",
            "|2016-06-29 06:20:07|    1|\n",
            "|2014-04-22 12:43:12|    1|\n",
            "|2016-01-19 15:31:15|    1|\n",
            "|2009-03-03 23:13:37|    1|\n",
            "|2016-12-05 03:35:43|    1|\n",
            "|2006-03-09 14:50:20|    1|\n",
            "|2011-09-29 05:47:23|    1|\n",
            "|2006-03-28 15:42:45|    1|\n",
            "|2016-11-13 13:13:01|    1|\n",
            "|2015-05-28 12:14:03|    1|\n",
            "|2011-02-16 08:10:47|    1|\n",
            "|2012-11-22 05:35:03|    1|\n",
            "|2015-03-28 02:13:44|    1|\n",
            "|2015-07-22 08:38:40|    1|\n",
            "|2006-09-03 06:13:55|    1|\n",
            "|2006-10-22 04:42:38|    1|\n",
            "|2015-10-07 00:27:10|    1|\n",
            "|2014-11-06 23:47:14|    1|\n",
            "+-------------------+-----+\n",
            "only showing top 20 rows\n",
            "\n"
          ]
        }
      ]
    },
    {
      "cell_type": "markdown",
      "source": [
        "Creating a new column called 'Year_onboard'"
      ],
      "metadata": {
        "id": "TvCwdiJFJQy9"
      }
    },
    {
      "cell_type": "code",
      "source": [
        "from pyspark.sql.functions import year\n",
        "\n",
        "df = df.withColumn('Year_onboard', year('Onboard_date'))\n",
        "df.groupBy('Year_onboard').count().show()\n",
        "sns.histplot(df.select('Year_onboard').toPandas(), kde= True)\n",
        "plt.show()"
      ],
      "metadata": {
        "colab": {
          "base_uri": "https://localhost:8080/",
          "height": 722
        },
        "id": "Tg3xxPop748D",
        "outputId": "fa4a915a-a9a2-42aa-824a-83720f758621"
      },
      "execution_count": 50,
      "outputs": [
        {
          "output_type": "stream",
          "name": "stdout",
          "text": [
            "+------------+-----+\n",
            "|Year_onboard|count|\n",
            "+------------+-----+\n",
            "|        2007|   90|\n",
            "|        2015|   75|\n",
            "|        2006|  102|\n",
            "|        2013|   80|\n",
            "|        2014|  103|\n",
            "|        2012|   67|\n",
            "|        2009|   84|\n",
            "|        2016|   67|\n",
            "|        2010|   84|\n",
            "|        2011|   72|\n",
            "|        2008|   76|\n",
            "+------------+-----+\n",
            "\n"
          ]
        },
        {
          "output_type": "display_data",
          "data": {
            "text/plain": [
              "<Figure size 640x480 with 1 Axes>"
            ],
            "image/png": "[encoded data removed]"
          },
          "metadata": {}
        }
      ]
    },
    {
      "cell_type": "code",
      "source": [
        "df.groupBy('Location').count().show(truncate=False)"
      ],
      "metadata": {
        "colab": {
          "base_uri": "https://localhost:8080/"
        },
        "id": "CJycm9Ze-UqL",
        "outputId": "2e996e58-62b3-4810-cd88-35d4c08d2f51"
      },
      "execution_count": 53,
      "outputs": [
        {
          "output_type": "stream",
          "name": "stdout",
          "text": [
            "+---------------------------------------------------------------+-----+\n",
            "|Location                                                       |count|\n",
            "+---------------------------------------------------------------+-----+\n",
            "|062 Trevor Falls Suite 665 North Mathewchester, MH 93744       |1    |\n",
            "|066 Jenkins Walks Barbaramouth, LA 76409                       |1    |\n",
            "|45946 Day Springs Mendozastad, NJ 46404                        |1    |\n",
            "|143 Andrea Flat Lake Michael, ID 33149                         |1    |\n",
            "|Unit 2093 Box 1530 DPO AA 53596-7800                           |1    |\n",
            "|399 Herbert Key Port Thomas, PR 14265                          |1    |\n",
            "|104 Ruben Rapid Apt. 107 New Andrea, FM 58602                  |1    |\n",
            "|930 Carrie Harbor Suite 044 New Adamtown, MP 74903             |1    |\n",
            "|8202 Jade Unions Suite 557 South Wesley, MS 12025              |1    |\n",
            "|USCGC Bailey FPO AA 06202-5064                                 |1    |\n",
            "|893 Carla Trace Suite 132 Lake Aliciaport, AR 87567            |1    |\n",
            "|446 Rodney Ridge Suite 282 West Williamside, MA 83236          |1    |\n",
            "|30668 Isabella Freeway Suite 428 Lake Kellyhaven, MP 89074-5017|1    |\n",
            "|911 Kent Point Anthonytown, KS 47499                           |1    |\n",
            "|078 Nunez Haven Suite 032 East Bradley, SC 36621-1197          |1    |\n",
            "|PSC 5667, Box 8312 APO AP 00654                                |1    |\n",
            "|4972 Michael Village Suite 788 West Rachelstad, NH 04946-6243  |1    |\n",
            "|567 Ian Loop Lambertberg, MA 68810-6480                        |1    |\n",
            "|482 Wells Mountain New Jason, AL 66002                         |1    |\n",
            "|7259 Brown Street Apt. 385 Monicaport, GU 05916-8374           |1    |\n",
            "+---------------------------------------------------------------+-----+\n",
            "only showing top 20 rows\n",
            "\n"
          ]
        }
      ]
    },
    {
      "cell_type": "code",
      "source": [
        "df.printSchema()"
      ],
      "metadata": {
        "colab": {
          "base_uri": "https://localhost:8080/"
        },
        "id": "RUWKOmYT8o2i",
        "outputId": "01b976c4-f71a-4b6e-cf28-54f5b0e1c375"
      },
      "execution_count": 46,
      "outputs": [
        {
          "output_type": "stream",
          "name": "stdout",
          "text": [
            "root\n",
            " |-- Names: string (nullable = true)\n",
            " |-- Age: double (nullable = true)\n",
            " |-- Total_Purchase: double (nullable = true)\n",
            " |-- Account_Manager: integer (nullable = true)\n",
            " |-- Years: double (nullable = true)\n",
            " |-- Num_Sites: double (nullable = true)\n",
            " |-- Onboard_date: timestamp (nullable = true)\n",
            " |-- Location: string (nullable = true)\n",
            " |-- Company: string (nullable = true)\n",
            " |-- Churn: integer (nullable = true)\n",
            " |-- Year_onboard: integer (nullable = true)\n",
            "\n"
          ]
        }
      ]
    },
    {
      "cell_type": "code",
      "source": [
        "df.columns"
      ],
      "metadata": {
        "colab": {
          "base_uri": "https://localhost:8080/"
        },
        "id": "lFQnEqnBAmSO",
        "outputId": "de79c2d2-98cf-4ad6-da6e-619738385998"
      },
      "execution_count": 62,
      "outputs": [
        {
          "output_type": "execute_result",
          "data": {
            "text/plain": [
              "['Names',\n",
              " 'Age',\n",
              " 'Total_Purchase',\n",
              " 'Account_Manager',\n",
              " 'Years',\n",
              " 'Num_Sites',\n",
              " 'Onboard_date',\n",
              " 'Location',\n",
              " 'Company',\n",
              " 'Churn',\n",
              " 'Year_onboard']"
            ]
          },
          "metadata": {},
          "execution_count": 62
        }
      ]
    },
    {
      "cell_type": "code",
      "source": [
        "from pyspark.ml.feature import VectorAssembler"
      ],
      "metadata": {
        "id": "w9Z8CrBeABxR"
      },
      "execution_count": 61,
      "outputs": []
    },
    {
      "cell_type": "code",
      "source": [
        "assembler = VectorAssembler(inputCols = ['Age',\n",
        " 'Total_Purchase',\n",
        " 'Account_Manager',\n",
        " 'Years',\n",
        " 'Num_Sites',\n",
        " 'Year_onboard'], outputCol = 'features')"
      ],
      "metadata": {
        "id": "s9zWPCgfAgOh"
      },
      "execution_count": 65,
      "outputs": []
    },
    {
      "cell_type": "code",
      "source": [
        "out = assembler.transform(df)"
      ],
      "metadata": {
        "id": "f0OdF90vBE_B"
      },
      "execution_count": 66,
      "outputs": []
    },
    {
      "cell_type": "code",
      "source": [
        "final_data = out.select(['features', 'Churn'])\n",
        "final_data.show(truncate = False)"
      ],
      "metadata": {
        "colab": {
          "base_uri": "https://localhost:8080/"
        },
        "id": "UYrZCN3wBUbK",
        "outputId": "d34c155a-880b-4e42-96ed-ab71bf73bacd"
      },
      "execution_count": 68,
      "outputs": [
        {
          "output_type": "stream",
          "name": "stdout",
          "text": [
            "+------------------------------------+-----+\n",
            "|features                            |Churn|\n",
            "+------------------------------------+-----+\n",
            "|[42.0,11066.8,0.0,7.22,8.0,2013.0]  |1    |\n",
            "|[41.0,11916.22,0.0,6.5,11.0,2013.0] |1    |\n",
            "|[38.0,12884.75,0.0,6.67,12.0,2016.0]|1    |\n",
            "|[42.0,8010.76,0.0,6.71,10.0,2014.0] |1    |\n",
            "|[37.0,9191.58,0.0,5.56,9.0,2016.0]  |1    |\n",
            "|[48.0,10356.02,0.0,5.12,8.0,2009.0] |1    |\n",
            "|[44.0,11331.58,1.0,5.23,11.0,2016.0]|1    |\n",
            "|[32.0,9885.12,1.0,6.92,9.0,2006.0]  |1    |\n",
            "|[43.0,14062.6,1.0,5.46,11.0,2011.0] |1    |\n",
            "|[40.0,8066.94,1.0,7.11,11.0,2006.0] |1    |\n",
            "|[30.0,11575.37,1.0,5.22,8.0,2016.0] |1    |\n",
            "|[45.0,8771.02,1.0,6.64,11.0,2015.0] |1    |\n",
            "|[45.0,8988.67,1.0,4.84,11.0,2011.0] |1    |\n",
            "|[40.0,8283.32,1.0,5.1,13.0,2012.0]  |1    |\n",
            "|[41.0,6569.87,1.0,4.3,11.0,2015.0]  |1    |\n",
            "|[38.0,10494.82,1.0,6.81,12.0,2015.0]|1    |\n",
            "|[45.0,8213.41,1.0,7.35,11.0,2006.0] |1    |\n",
            "|[43.0,11226.88,0.0,8.08,12.0,2006.0]|1    |\n",
            "|[53.0,5515.09,0.0,6.85,8.0,2015.0]  |1    |\n",
            "|[46.0,8046.4,1.0,5.69,8.0,2014.0]   |1    |\n",
            "+------------------------------------+-----+\n",
            "only showing top 20 rows\n",
            "\n"
          ]
        }
      ]
    },
    {
      "cell_type": "markdown",
      "source": [
        "Train Test Split"
      ],
      "metadata": {
        "id": "IbOA0T30Dfc_"
      }
    },
    {
      "cell_type": "code",
      "source": [
        "train_churn, test_churn = final_data.randomSplit([0.8,0.2])"
      ],
      "metadata": {
        "id": "n19HLZ85Be4x"
      },
      "execution_count": 69,
      "outputs": []
    },
    {
      "cell_type": "markdown",
      "source": [
        "Logistic Regression"
      ],
      "metadata": {
        "id": "rvSWr50gD3v_"
      }
    },
    {
      "cell_type": "code",
      "source": [
        "from pyspark.ml.classification import LogisticRegression"
      ],
      "metadata": {
        "id": "ibuGXpC7DpIh"
      },
      "execution_count": 70,
      "outputs": []
    },
    {
      "cell_type": "code",
      "source": [
        "log_churn = LogisticRegression(featuresCol = 'features', labelCol='Churn')"
      ],
      "metadata": {
        "id": "f9c4KknTD28h"
      },
      "execution_count": 73,
      "outputs": []
    },
    {
      "cell_type": "code",
      "source": [
        "model = log_churn.fit(train_churn)"
      ],
      "metadata": {
        "id": "RaO6kpSxFSYK"
      },
      "execution_count": 74,
      "outputs": []
    },
    {
      "cell_type": "code",
      "source": [
        "training_sum = model.summary\n",
        "\n",
        "training_sum.predictions.describe().show()"
      ],
      "metadata": {
        "colab": {
          "base_uri": "https://localhost:8080/"
        },
        "id": "1LfIKejLFa6Z",
        "outputId": "fc889262-dd9e-4b0a-932e-a2e81581f984"
      },
      "execution_count": 76,
      "outputs": [
        {
          "output_type": "stream",
          "name": "stdout",
          "text": [
            "+-------+-------------------+-------------------+\n",
            "|summary|              Churn|         prediction|\n",
            "+-------+-------------------+-------------------+\n",
            "|  count|                702|                702|\n",
            "|   mean|0.16951566951566951|0.13105413105413105|\n",
            "| stddev| 0.3754742798739226|0.33770015978907836|\n",
            "|    min|                0.0|                0.0|\n",
            "|    max|                1.0|                1.0|\n",
            "+-------+-------------------+-------------------+\n",
            "\n"
          ]
        }
      ]
    },
    {
      "cell_type": "markdown",
      "source": [
        "Evaluate Results"
      ],
      "metadata": {
        "id": "1l-ILwMdF5ce"
      }
    },
    {
      "cell_type": "code",
      "source": [
        "from pyspark.ml.evaluation import BinaryClassificationEvaluator"
      ],
      "metadata": {
        "id": "ZXX29ppOFszR"
      },
      "execution_count": 77,
      "outputs": []
    },
    {
      "cell_type": "code",
      "source": [
        "pred_churn = model.evaluate(test_churn)"
      ],
      "metadata": {
        "id": "PKpdbeMkGD1B"
      },
      "execution_count": 78,
      "outputs": []
    },
    {
      "cell_type": "code",
      "source": [
        "pred_churn.predictions.show()"
      ],
      "metadata": {
        "colab": {
          "base_uri": "https://localhost:8080/"
        },
        "id": "ucpleVoKGY9R",
        "outputId": "4bac4e8d-465c-477c-9e42-f79cce94d501"
      },
      "execution_count": 79,
      "outputs": [
        {
          "output_type": "stream",
          "name": "stdout",
          "text": [
            "+--------------------+-----+--------------------+--------------------+----------+\n",
            "|            features|Churn|       rawPrediction|         probability|prediction|\n",
            "+--------------------+-----+--------------------+--------------------+----------+\n",
            "|[28.0,9090.43,1.0...|    0|[1.32394041078268...|[0.78983654116389...|       0.0|\n",
            "|[29.0,9617.59,0.0...|    0|[4.35250304549868...|[0.98728910042959...|       0.0|\n",
            "|[30.0,10960.52,1....|    0|[2.46493733367597...|[0.92164694978000...|       0.0|\n",
            "|[31.0,5304.6,0.0,...|    0|[3.34433380057007...|[0.96591879804030...|       0.0|\n",
            "|[31.0,8688.21,0.0...|    0|[6.62262521871447...|[0.99867183138933...|       0.0|\n",
            "|[32.0,6367.22,1.0...|    0|[2.61753180465835...|[0.93198140915628...|       0.0|\n",
            "|[32.0,7896.65,0.0...|    0|[3.37697615046555...|[0.96697718292759...|       0.0|\n",
            "|[32.0,8617.98,1.0...|    1|[1.03246952063136...|[0.73739438372635...|       0.0|\n",
            "|[32.0,9472.72,1.0...|    0|[3.58706100947440...|[0.97306596139915...|       0.0|\n",
            "|[32.0,9885.12,1.0...|    1|[1.93156010805608...|[0.87342199970624...|       0.0|\n",
            "|[32.0,12479.72,0....|    0|[4.46331954365685...|[0.98860724546535...|       0.0|\n",
            "|[33.0,4711.89,0.0...|    0|[5.89137817687790...|[0.99724444810697...|       0.0|\n",
            "|[33.0,8556.73,0.0...|    0|[3.69978109088481...|[0.97586782385033...|       0.0|\n",
            "|[33.0,10306.21,1....|    0|[2.02497095209828...|[0.88339403867655...|       0.0|\n",
            "|[33.0,10709.39,1....|    0|[6.45584582528618...|[0.99843115547471...|       0.0|\n",
            "|[33.0,12115.91,1....|    0|[2.42400835962708...|[0.91863983526415...|       0.0|\n",
            "|[34.0,5447.16,1.0...|    0|[3.16500886914624...|[0.95949605663224...|       0.0|\n",
            "|[34.0,7818.13,0.0...|    0|[3.99084510710737...|[0.98185137428295...|       0.0|\n",
            "|[34.0,11687.29,0....|    0|[5.74205787980742...|[0.99680209990250...|       0.0|\n",
            "|[34.0,12813.91,0....|    0|[6.94157532142647...|[0.99903418823200...|       0.0|\n",
            "+--------------------+-----+--------------------+--------------------+----------+\n",
            "only showing top 20 rows\n",
            "\n"
          ]
        }
      ]
    },
    {
      "cell_type": "markdown",
      "metadata": {
        "id": "MuzppebF2mSz"
      },
      "source": [
        "### Using AUC"
      ]
    },
    {
      "cell_type": "code",
      "execution_count": 80,
      "metadata": {
        "collapsed": true,
        "id": "SewT0laU2mSz"
      },
      "outputs": [],
      "source": [
        "churn_eval = BinaryClassificationEvaluator(rawPredictionCol='prediction',\n",
        "                                           labelCol='Churn')"
      ]
    },
    {
      "cell_type": "code",
      "execution_count": 81,
      "metadata": {
        "id": "UmAUCP3D2mSz"
      },
      "outputs": [],
      "source": [
        "auc = churn_eval.evaluate(pred_churn.predictions)"
      ]
    },
    {
      "cell_type": "code",
      "execution_count": 82,
      "metadata": {
        "id": "YZfT0Nsc2mSz",
        "outputId": "304750a0-31ce-4900-b388-fcf0613db45a",
        "colab": {
          "base_uri": "https://localhost:8080/"
        }
      },
      "outputs": [
        {
          "output_type": "execute_result",
          "data": {
            "text/plain": [
              "0.7562294765308094"
            ]
          },
          "metadata": {},
          "execution_count": 82
        }
      ],
      "source": [
        "auc"
      ]
    },
    {
      "cell_type": "markdown",
      "metadata": {
        "id": "tYNPvmfU2mS0"
      },
      "source": [
        "### Predict on brand new unlabeled data\n",
        "\n",
        "We still need to evaluate the new_customers.csv file!"
      ]
    },
    {
      "cell_type": "code",
      "execution_count": 83,
      "metadata": {
        "collapsed": true,
        "id": "7xdszIK_2mS0"
      },
      "outputs": [],
      "source": [
        "final_lr_model = log_churn.fit(final_data)"
      ]
    },
    {
      "cell_type": "code",
      "execution_count": 84,
      "metadata": {
        "collapsed": true,
        "id": "M1ElmVSz2mS0"
      },
      "outputs": [],
      "source": [
        "new_customers = spark.read.csv('/content/drive/MyDrive/Pyspark Practice/Python-and-Spark-for-Big-Data-master/Spark_for_Machine_Learning/Logistic_Regression/new_customers.csv',\n",
        "                               inferSchema=True, header=True)"
      ]
    },
    {
      "cell_type": "code",
      "execution_count": 85,
      "metadata": {
        "id": "x3erzYfG2mS0",
        "outputId": "d70bf77a-abba-40c5-fd93-e211a08c4c1f",
        "colab": {
          "base_uri": "https://localhost:8080/"
        }
      },
      "outputs": [
        {
          "output_type": "stream",
          "name": "stdout",
          "text": [
            "root\n",
            " |-- Names: string (nullable = true)\n",
            " |-- Age: double (nullable = true)\n",
            " |-- Total_Purchase: double (nullable = true)\n",
            " |-- Account_Manager: integer (nullable = true)\n",
            " |-- Years: double (nullable = true)\n",
            " |-- Num_Sites: double (nullable = true)\n",
            " |-- Onboard_date: timestamp (nullable = true)\n",
            " |-- Location: string (nullable = true)\n",
            " |-- Company: string (nullable = true)\n",
            "\n"
          ]
        }
      ],
      "source": [
        "new_customers.printSchema()"
      ]
    },
    {
      "cell_type": "code",
      "source": [
        "new_customers = new_customers.withColumn('Year_onboard', year('Onboard_date'))"
      ],
      "metadata": {
        "id": "UVEJwLZyMxSd"
      },
      "execution_count": 86,
      "outputs": []
    },
    {
      "cell_type": "code",
      "execution_count": 87,
      "metadata": {
        "collapsed": true,
        "id": "tnAloPfH2mS0"
      },
      "outputs": [],
      "source": [
        "test_new_customers = assembler.transform(new_customers)"
      ]
    },
    {
      "cell_type": "code",
      "execution_count": 88,
      "metadata": {
        "id": "Mupk-ftZ2mS1",
        "outputId": "7ed161c2-7f66-4d84-9e2b-46efe057d8d6",
        "colab": {
          "base_uri": "https://localhost:8080/"
        }
      },
      "outputs": [
        {
          "output_type": "stream",
          "name": "stdout",
          "text": [
            "root\n",
            " |-- Names: string (nullable = true)\n",
            " |-- Age: double (nullable = true)\n",
            " |-- Total_Purchase: double (nullable = true)\n",
            " |-- Account_Manager: integer (nullable = true)\n",
            " |-- Years: double (nullable = true)\n",
            " |-- Num_Sites: double (nullable = true)\n",
            " |-- Onboard_date: timestamp (nullable = true)\n",
            " |-- Location: string (nullable = true)\n",
            " |-- Company: string (nullable = true)\n",
            " |-- Year_onboard: integer (nullable = true)\n",
            " |-- features: vector (nullable = true)\n",
            "\n"
          ]
        }
      ],
      "source": [
        "test_new_customers.printSchema()"
      ]
    },
    {
      "cell_type": "code",
      "execution_count": 89,
      "metadata": {
        "collapsed": true,
        "id": "GSO2uWt72mS1"
      },
      "outputs": [],
      "source": [
        "final_results = final_lr_model.transform(test_new_customers)"
      ]
    },
    {
      "cell_type": "code",
      "execution_count": 90,
      "metadata": {
        "id": "ezwcyGsV2mS1",
        "outputId": "df5b5fec-2c08-4508-bd1c-34d3f682b355",
        "colab": {
          "base_uri": "https://localhost:8080/"
        }
      },
      "outputs": [
        {
          "output_type": "stream",
          "name": "stdout",
          "text": [
            "+----------------+----------+\n",
            "|         Company|prediction|\n",
            "+----------------+----------+\n",
            "|        King Ltd|       0.0|\n",
            "|   Cannon-Benson|       1.0|\n",
            "|Barron-Robertson|       1.0|\n",
            "|   Sexton-Golden|       1.0|\n",
            "|        Wood LLC|       0.0|\n",
            "|   Parks-Robbins|       1.0|\n",
            "+----------------+----------+\n",
            "\n"
          ]
        }
      ],
      "source": [
        "final_results.select('Company','prediction').show()"
      ]
    },
    {
      "cell_type": "markdown",
      "metadata": {
        "id": "bQQbuFmw2mS1"
      },
      "source": [
        "Ok! That is it! Now we know that we should assign Acocunt Managers to Cannon-Benson,Barron-Robertson,Sexton-GOlden, and Parks-Robbins!"
      ]
    }
  ],
  "metadata": {
    "anaconda-cloud": {},
    "kernelspec": {
      "display_name": "Python [conda root]",
      "language": "python",
      "name": "conda-root-py"
    },
    "language_info": {
      "codemirror_mode": {
        "name": "ipython",
        "version": 3
      },
      "file_extension": ".py",
      "mimetype": "text/x-python",
      "name": "python",
      "nbconvert_exporter": "python",
      "pygments_lexer": "ipython3",
      "version": "3.5.3"
    },
    "colab": {
      "provenance": [],
      "include_colab_link": true
    }
  },
  "nbformat": 4,
  "nbformat_minor": 0
}
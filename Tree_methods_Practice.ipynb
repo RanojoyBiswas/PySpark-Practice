{
  "nbformat": 4,
  "nbformat_minor": 0,
  "metadata": {
    "colab": {
      "provenance": [],
      "mount_file_id": "1IEMMzYNlKqHUYVcbyqZHM5MbeIMiAPR8",
      "authorship_tag": "ABX9TyMzf2oFGp4rKik0FGiXMdLq",
      "include_colab_link": true
    },
    "kernelspec": {
      "name": "python3",
      "display_name": "Python 3"
    },
    "language_info": {
      "name": "python"
    }
  },
  "cells": [
    {
      "cell_type": "markdown",
      "metadata": {
        "id": "view-in-github",
        "colab_type": "text"
      },
      "source": [
        "<a href=\"https://colab.research.google.com/github/RanojoyBiswas/PySpark-Practice/blob/main/Tree_methods_Practice.ipynb\" target=\"_parent\"><img src=\"https://colab.research.google.com/assets/colab-badge.svg\" alt=\"Open In Colab\"/></a>"
      ]
    },
    {
      "cell_type": "markdown",
      "metadata": {
        "id": "TQbNuJgOhrvW"
      },
      "source": [
        "# Tree Methods:\n",
        "\n",
        "In this lecture we will code along with some data and test out 3 different tree methods:\n",
        "\n",
        "* A single decision tree\n",
        "* A random forest\n",
        "* A gradient boosted tree classifier\n",
        "    \n",
        "We will be using a college dataset to try to classify colleges as Private or Public based off these features:\n",
        "\n",
        "    Private A factor with levels No and Yes indicating private or public university\n",
        "    Apps Number of applications received\n",
        "    Accept Number of applications accepted\n",
        "    Enroll Number of new students enrolled\n",
        "    Top10perc Pct. new students from top 10% of H.S. class\n",
        "    Top25perc Pct. new students from top 25% of H.S. class\n",
        "    F.Undergrad Number of fulltime undergraduates\n",
        "    P.Undergrad Number of parttime undergraduates\n",
        "    Outstate Out-of-state tuition\n",
        "    Room.Board Room and board costs\n",
        "    Books Estimated book costs\n",
        "    Personal Estimated personal spending\n",
        "    PhD Pct. of faculty with Ph.D.’s\n",
        "    Terminal Pct. of faculty with terminal degree\n",
        "    S.F.Ratio Student/faculty ratio\n",
        "    perc.alumni Pct. alumni who donate\n",
        "    Expend Instructional expenditure per student\n",
        "    Grad.Rate Graduation rate"
      ]
    },
    {
      "cell_type": "code",
      "source": [
        "pip install pyspark"
      ],
      "metadata": {
        "colab": {
          "base_uri": "https://localhost:8080/"
        },
        "id": "qKye5NDRh90F",
        "outputId": "38986c32-37eb-495a-e37e-1f07c530a381"
      },
      "execution_count": 56,
      "outputs": [
        {
          "output_type": "stream",
          "name": "stdout",
          "text": [
            "Looking in indexes: https://pypi.org/simple, https://us-python.pkg.dev/colab-wheels/public/simple/\n",
            "Requirement already satisfied: pyspark in /usr/local/lib/python3.9/dist-packages (3.3.2)\n",
            "Requirement already satisfied: py4j==0.10.9.5 in /usr/local/lib/python3.9/dist-packages (from pyspark) (0.10.9.5)\n"
          ]
        }
      ]
    },
    {
      "cell_type": "code",
      "source": [
        "from pyspark.sql import SparkSession\n",
        "spark = SparkSession.builder.appName('Trees').getOrCreate()"
      ],
      "metadata": {
        "id": "Eyp-XgC0iBtj"
      },
      "execution_count": 57,
      "outputs": []
    },
    {
      "cell_type": "code",
      "source": [
        "df = spark.read.csv('/content/drive/MyDrive/Pyspark Practice/Python-and-Spark-for-Big-Data-master/Spark_for_Machine_Learning/Tree_Methods/College.csv',\n",
        "                    inferSchema = True, header = True)"
      ],
      "metadata": {
        "id": "ElPvFwyLiQ--"
      },
      "execution_count": 58,
      "outputs": []
    },
    {
      "cell_type": "code",
      "source": [
        "df.printSchema()"
      ],
      "metadata": {
        "colab": {
          "base_uri": "https://localhost:8080/"
        },
        "id": "_KHVuAL-iicf",
        "outputId": "ef1065ba-4605-4b79-cea7-f46c82633042"
      },
      "execution_count": 59,
      "outputs": [
        {
          "output_type": "stream",
          "name": "stdout",
          "text": [
            "root\n",
            " |-- School: string (nullable = true)\n",
            " |-- Private: string (nullable = true)\n",
            " |-- Apps: integer (nullable = true)\n",
            " |-- Accept: integer (nullable = true)\n",
            " |-- Enroll: integer (nullable = true)\n",
            " |-- Top10perc: integer (nullable = true)\n",
            " |-- Top25perc: integer (nullable = true)\n",
            " |-- F_Undergrad: integer (nullable = true)\n",
            " |-- P_Undergrad: integer (nullable = true)\n",
            " |-- Outstate: integer (nullable = true)\n",
            " |-- Room_Board: integer (nullable = true)\n",
            " |-- Books: integer (nullable = true)\n",
            " |-- Personal: integer (nullable = true)\n",
            " |-- PhD: integer (nullable = true)\n",
            " |-- Terminal: integer (nullable = true)\n",
            " |-- S_F_Ratio: double (nullable = true)\n",
            " |-- perc_alumni: integer (nullable = true)\n",
            " |-- Expend: integer (nullable = true)\n",
            " |-- Grad_Rate: integer (nullable = true)\n",
            "\n"
          ]
        }
      ]
    },
    {
      "cell_type": "code",
      "source": [
        "df.describe().show()"
      ],
      "metadata": {
        "colab": {
          "base_uri": "https://localhost:8080/"
        },
        "id": "fAiZCVV6inV9",
        "outputId": "7ffee460-9340-4d70-b845-34da384e938e"
      },
      "execution_count": 60,
      "outputs": [
        {
          "output_type": "stream",
          "name": "stdout",
          "text": [
            "+-------+--------------------+-------+------------------+------------------+----------------+------------------+------------------+-----------------+-----------------+------------------+------------------+------------------+------------------+------------------+------------------+------------------+------------------+----------------+------------------+\n",
            "|summary|              School|Private|              Apps|            Accept|          Enroll|         Top10perc|         Top25perc|      F_Undergrad|      P_Undergrad|          Outstate|        Room_Board|             Books|          Personal|               PhD|          Terminal|         S_F_Ratio|       perc_alumni|          Expend|         Grad_Rate|\n",
            "+-------+--------------------+-------+------------------+------------------+----------------+------------------+------------------+-----------------+-----------------+------------------+------------------+------------------+------------------+------------------+------------------+------------------+------------------+----------------+------------------+\n",
            "|  count|                 777|    777|               777|               777|             777|               777|               777|              777|              777|               777|               777|               777|               777|               777|               777|               777|               777|             777|               777|\n",
            "|   mean|                null|   null|3001.6383526383524|2018.8043758043757|779.972972972973| 27.55855855855856|  55.7966537966538|3699.907335907336|855.2985842985843| 10440.66924066924| 4357.526383526383| 549.3809523809524|1340.6422136422136| 72.66023166023166| 79.70270270270271|14.089703989703986|22.743886743886744|9660.17117117117| 65.46332046332046|\n",
            "| stddev|                null|   null|3870.2014844352884|  2451.11397099263| 929.17619013287|17.640364385452134|19.804777595131373|4850.420530887386|1522.431887295513|4023.0164841119727|1096.6964155935289|165.10536013709253|  677.071453590578|16.328154687939314|14.722358527903374|3.9583491352055478| 12.39180148937615|5221.76843985609|17.177709897155403|\n",
            "|    min|Abilene Christian...|     No|                81|                72|              35|                 1|                 9|              139|                1|              2340|              1780|                96|               250|                 8|                24|               2.5|                 0|            3186|                10|\n",
            "|    max|York College of P...|    Yes|             48094|             26330|            6392|                96|               100|            31643|            21836|             21700|              8124|              2340|              6800|               103|               100|              39.8|                64|           56233|               118|\n",
            "+-------+--------------------+-------+------------------+------------------+----------------+------------------+------------------+-----------------+-----------------+------------------+------------------+------------------+------------------+------------------+------------------+------------------+------------------+----------------+------------------+\n",
            "\n"
          ]
        }
      ]
    },
    {
      "cell_type": "code",
      "source": [
        "for i in df.take(3):\n",
        "  print(i,'\\n')"
      ],
      "metadata": {
        "colab": {
          "base_uri": "https://localhost:8080/"
        },
        "id": "4KHSXjPQiph1",
        "outputId": "7a58eef1-de15-47b9-fe39-ecd766b06430"
      },
      "execution_count": 61,
      "outputs": [
        {
          "output_type": "stream",
          "name": "stdout",
          "text": [
            "Row(School='Abilene Christian University', Private='Yes', Apps=1660, Accept=1232, Enroll=721, Top10perc=23, Top25perc=52, F_Undergrad=2885, P_Undergrad=537, Outstate=7440, Room_Board=3300, Books=450, Personal=2200, PhD=70, Terminal=78, S_F_Ratio=18.1, perc_alumni=12, Expend=7041, Grad_Rate=60) \n",
            "\n",
            "Row(School='Adelphi University', Private='Yes', Apps=2186, Accept=1924, Enroll=512, Top10perc=16, Top25perc=29, F_Undergrad=2683, P_Undergrad=1227, Outstate=12280, Room_Board=6450, Books=750, Personal=1500, PhD=29, Terminal=30, S_F_Ratio=12.2, perc_alumni=16, Expend=10527, Grad_Rate=56) \n",
            "\n",
            "Row(School='Adrian College', Private='Yes', Apps=1428, Accept=1097, Enroll=336, Top10perc=22, Top25perc=50, F_Undergrad=1036, P_Undergrad=99, Outstate=11250, Room_Board=3750, Books=400, Personal=1165, PhD=53, Terminal=66, S_F_Ratio=12.9, perc_alumni=30, Expend=8735, Grad_Rate=54) \n",
            "\n"
          ]
        }
      ]
    },
    {
      "cell_type": "code",
      "source": [
        "from pyspark.sql.functions import isnull, isnan\n",
        "\n",
        "for i in df.columns:\n",
        "  nulls_count = df.filter(isnull(df['School'])).count()\n",
        "  print(f'Total Null values in the {i} columns:', nulls_count)"
      ],
      "metadata": {
        "colab": {
          "base_uri": "https://localhost:8080/"
        },
        "id": "aJdoobPZiq4l",
        "outputId": "7bf4d349-1f8a-4270-a167-c7f73603ed0d"
      },
      "execution_count": 62,
      "outputs": [
        {
          "output_type": "stream",
          "name": "stdout",
          "text": [
            "Total Null values in the School columns: 0\n",
            "Total Null values in the Private columns: 0\n",
            "Total Null values in the Apps columns: 0\n",
            "Total Null values in the Accept columns: 0\n",
            "Total Null values in the Enroll columns: 0\n",
            "Total Null values in the Top10perc columns: 0\n",
            "Total Null values in the Top25perc columns: 0\n",
            "Total Null values in the F_Undergrad columns: 0\n",
            "Total Null values in the P_Undergrad columns: 0\n",
            "Total Null values in the Outstate columns: 0\n",
            "Total Null values in the Room_Board columns: 0\n",
            "Total Null values in the Books columns: 0\n",
            "Total Null values in the Personal columns: 0\n",
            "Total Null values in the PhD columns: 0\n",
            "Total Null values in the Terminal columns: 0\n",
            "Total Null values in the S_F_Ratio columns: 0\n",
            "Total Null values in the perc_alumni columns: 0\n",
            "Total Null values in the Expend columns: 0\n",
            "Total Null values in the Grad_Rate columns: 0\n"
          ]
        }
      ]
    },
    {
      "cell_type": "code",
      "source": [
        "df.columns"
      ],
      "metadata": {
        "colab": {
          "base_uri": "https://localhost:8080/"
        },
        "id": "CeA5jyqxjyh2",
        "outputId": "49c91958-5180-4b34-b05a-0c23d8a13b0a"
      },
      "execution_count": 63,
      "outputs": [
        {
          "output_type": "execute_result",
          "data": {
            "text/plain": [
              "['School',\n",
              " 'Private',\n",
              " 'Apps',\n",
              " 'Accept',\n",
              " 'Enroll',\n",
              " 'Top10perc',\n",
              " 'Top25perc',\n",
              " 'F_Undergrad',\n",
              " 'P_Undergrad',\n",
              " 'Outstate',\n",
              " 'Room_Board',\n",
              " 'Books',\n",
              " 'Personal',\n",
              " 'PhD',\n",
              " 'Terminal',\n",
              " 'S_F_Ratio',\n",
              " 'perc_alumni',\n",
              " 'Expend',\n",
              " 'Grad_Rate']"
            ]
          },
          "metadata": {},
          "execution_count": 63
        }
      ]
    },
    {
      "cell_type": "code",
      "source": [
        "from pyspark.ml.feature import VectorAssembler\n",
        "\n",
        "assembler = VectorAssembler(outputCol='features', inputCols = ['Apps',\n",
        " 'Accept',\n",
        " 'Enroll',\n",
        " 'Top10perc',\n",
        " 'Top25perc',\n",
        " 'F_Undergrad',\n",
        " 'P_Undergrad',\n",
        " 'Outstate',\n",
        " 'Room_Board',\n",
        " 'Books',\n",
        " 'Personal',\n",
        " 'PhD',\n",
        " 'Terminal',\n",
        " 'S_F_Ratio',\n",
        " 'perc_alumni',\n",
        " 'Expend',\n",
        " 'Grad_Rate'])"
      ],
      "metadata": {
        "id": "A1EBmy9slEjt"
      },
      "execution_count": 64,
      "outputs": []
    },
    {
      "cell_type": "code",
      "source": [
        "out = assembler.transform(df)"
      ],
      "metadata": {
        "id": "1Cc_-GiQmW2V"
      },
      "execution_count": 65,
      "outputs": []
    },
    {
      "cell_type": "code",
      "source": [
        "from pyspark.ml.feature import StringIndexer\n",
        "\n",
        "indexer = StringIndexer(inputCol = 'Private', outputCol = 'private_index')\n",
        "op = indexer.fit(out).transform(out)"
      ],
      "metadata": {
        "id": "f-WMdXBbmeNs"
      },
      "execution_count": 66,
      "outputs": []
    },
    {
      "cell_type": "code",
      "source": [
        "op.printSchema()"
      ],
      "metadata": {
        "colab": {
          "base_uri": "https://localhost:8080/"
        },
        "id": "tbof9lqAm3Gc",
        "outputId": "a3628d3f-96cd-44c9-9d61-1e067a1f7a3e"
      },
      "execution_count": 67,
      "outputs": [
        {
          "output_type": "stream",
          "name": "stdout",
          "text": [
            "root\n",
            " |-- School: string (nullable = true)\n",
            " |-- Private: string (nullable = true)\n",
            " |-- Apps: integer (nullable = true)\n",
            " |-- Accept: integer (nullable = true)\n",
            " |-- Enroll: integer (nullable = true)\n",
            " |-- Top10perc: integer (nullable = true)\n",
            " |-- Top25perc: integer (nullable = true)\n",
            " |-- F_Undergrad: integer (nullable = true)\n",
            " |-- P_Undergrad: integer (nullable = true)\n",
            " |-- Outstate: integer (nullable = true)\n",
            " |-- Room_Board: integer (nullable = true)\n",
            " |-- Books: integer (nullable = true)\n",
            " |-- Personal: integer (nullable = true)\n",
            " |-- PhD: integer (nullable = true)\n",
            " |-- Terminal: integer (nullable = true)\n",
            " |-- S_F_Ratio: double (nullable = true)\n",
            " |-- perc_alumni: integer (nullable = true)\n",
            " |-- Expend: integer (nullable = true)\n",
            " |-- Grad_Rate: integer (nullable = true)\n",
            " |-- features: vector (nullable = true)\n",
            " |-- private_index: double (nullable = false)\n",
            "\n"
          ]
        }
      ]
    },
    {
      "cell_type": "code",
      "source": [
        "final_data = op.select('features', 'private_index')\n",
        "final_data.show(truncate=False)"
      ],
      "metadata": {
        "colab": {
          "base_uri": "https://localhost:8080/"
        },
        "id": "F5cGPpvym9Bz",
        "outputId": "c0497560-ffa9-4f95-c1e2-f18f1e20d801"
      },
      "execution_count": 68,
      "outputs": [
        {
          "output_type": "stream",
          "name": "stdout",
          "text": [
            "+----------------------------------------------------------------------------------------------------------+-------------+\n",
            "|features                                                                                                  |private_index|\n",
            "+----------------------------------------------------------------------------------------------------------+-------------+\n",
            "|[1660.0,1232.0,721.0,23.0,52.0,2885.0,537.0,7440.0,3300.0,450.0,2200.0,70.0,78.0,18.1,12.0,7041.0,60.0]   |0.0          |\n",
            "|[2186.0,1924.0,512.0,16.0,29.0,2683.0,1227.0,12280.0,6450.0,750.0,1500.0,29.0,30.0,12.2,16.0,10527.0,56.0]|0.0          |\n",
            "|[1428.0,1097.0,336.0,22.0,50.0,1036.0,99.0,11250.0,3750.0,400.0,1165.0,53.0,66.0,12.9,30.0,8735.0,54.0]   |0.0          |\n",
            "|[417.0,349.0,137.0,60.0,89.0,510.0,63.0,12960.0,5450.0,450.0,875.0,92.0,97.0,7.7,37.0,19016.0,59.0]       |0.0          |\n",
            "|[193.0,146.0,55.0,16.0,44.0,249.0,869.0,7560.0,4120.0,800.0,1500.0,76.0,72.0,11.9,2.0,10922.0,15.0]       |0.0          |\n",
            "|[587.0,479.0,158.0,38.0,62.0,678.0,41.0,13500.0,3335.0,500.0,675.0,67.0,73.0,9.4,11.0,9727.0,55.0]        |0.0          |\n",
            "|[353.0,340.0,103.0,17.0,45.0,416.0,230.0,13290.0,5720.0,500.0,1500.0,90.0,93.0,11.5,26.0,8861.0,63.0]     |0.0          |\n",
            "|[1899.0,1720.0,489.0,37.0,68.0,1594.0,32.0,13868.0,4826.0,450.0,850.0,89.0,100.0,13.7,37.0,11487.0,73.0]  |0.0          |\n",
            "|[1038.0,839.0,227.0,30.0,63.0,973.0,306.0,15595.0,4400.0,300.0,500.0,79.0,84.0,11.3,23.0,11644.0,80.0]    |0.0          |\n",
            "|[582.0,498.0,172.0,21.0,44.0,799.0,78.0,10468.0,3380.0,660.0,1800.0,40.0,41.0,11.5,15.0,8991.0,52.0]      |0.0          |\n",
            "|[1732.0,1425.0,472.0,37.0,75.0,1830.0,110.0,16548.0,5406.0,500.0,600.0,82.0,88.0,11.3,31.0,10932.0,73.0]  |0.0          |\n",
            "|[2652.0,1900.0,484.0,44.0,77.0,1707.0,44.0,17080.0,4440.0,400.0,600.0,73.0,91.0,9.9,41.0,11711.0,76.0]    |0.0          |\n",
            "|[1179.0,780.0,290.0,38.0,64.0,1130.0,638.0,9690.0,4785.0,600.0,1000.0,60.0,84.0,13.3,21.0,7940.0,74.0]    |0.0          |\n",
            "|[1267.0,1080.0,385.0,44.0,73.0,1306.0,28.0,12572.0,4552.0,400.0,400.0,79.0,87.0,15.3,32.0,9305.0,68.0]    |0.0          |\n",
            "|[494.0,313.0,157.0,23.0,46.0,1317.0,1235.0,8352.0,3640.0,650.0,2449.0,36.0,69.0,11.1,26.0,8127.0,55.0]    |0.0          |\n",
            "|[1420.0,1093.0,220.0,9.0,22.0,1018.0,287.0,8700.0,4780.0,450.0,1400.0,78.0,84.0,14.7,19.0,7355.0,69.0]    |0.0          |\n",
            "|[4302.0,992.0,418.0,83.0,96.0,1593.0,5.0,19760.0,5300.0,660.0,1598.0,93.0,98.0,8.4,63.0,21424.0,100.0]    |0.0          |\n",
            "|[1216.0,908.0,423.0,19.0,40.0,1819.0,281.0,10100.0,3520.0,550.0,1100.0,48.0,61.0,12.1,14.0,7994.0,59.0]   |0.0          |\n",
            "|[1130.0,704.0,322.0,14.0,23.0,1586.0,326.0,9996.0,3090.0,900.0,1320.0,62.0,66.0,11.5,18.0,10908.0,46.0]   |0.0          |\n",
            "|[3540.0,2001.0,1016.0,24.0,54.0,4190.0,1512.0,5130.0,3592.0,500.0,2000.0,60.0,62.0,23.1,5.0,4010.0,34.0]  |1.0          |\n",
            "+----------------------------------------------------------------------------------------------------------+-------------+\n",
            "only showing top 20 rows\n",
            "\n"
          ]
        }
      ]
    },
    {
      "cell_type": "code",
      "source": [
        "final_data.groupBy('private_index').count().show()"
      ],
      "metadata": {
        "colab": {
          "base_uri": "https://localhost:8080/"
        },
        "id": "JGHSYNXFuTBA",
        "outputId": "58b3fe75-0b60-4557-9729-cfdf301d9179"
      },
      "execution_count": 69,
      "outputs": [
        {
          "output_type": "stream",
          "name": "stdout",
          "text": [
            "+-------------+-----+\n",
            "|private_index|count|\n",
            "+-------------+-----+\n",
            "|          0.0|  565|\n",
            "|          1.0|  212|\n",
            "+-------------+-----+\n",
            "\n"
          ]
        }
      ]
    },
    {
      "cell_type": "markdown",
      "source": [
        "Train-Test Split"
      ],
      "metadata": {
        "id": "eG5CzR-xnnhg"
      }
    },
    {
      "cell_type": "code",
      "source": [
        "train_data, test_data = final_data.randomSplit([0.7, 0.3])"
      ],
      "metadata": {
        "id": "LT3qnGbtnWmk"
      },
      "execution_count": 70,
      "outputs": []
    },
    {
      "cell_type": "markdown",
      "source": [
        "Importing Tree based Algorithms"
      ],
      "metadata": {
        "id": "fVy4dwSqn0qp"
      }
    },
    {
      "cell_type": "code",
      "source": [
        "from pyspark.ml.classification import DecisionTreeClassifier, GBTClassifier, RandomForestClassifier"
      ],
      "metadata": {
        "id": "-7phu_eSnzUE"
      },
      "execution_count": 71,
      "outputs": []
    },
    {
      "cell_type": "code",
      "source": [
        "dtc = DecisionTreeClassifier(featuresCol='features', labelCol='private_index')\n",
        "rfc = RandomForestClassifier(numTrees=150, featuresCol='features', labelCol='private_index')\n",
        "gbc = GBTClassifier(featuresCol='features', labelCol='private_index')"
      ],
      "metadata": {
        "id": "n4o0REFxoKGD"
      },
      "execution_count": 81,
      "outputs": []
    },
    {
      "cell_type": "code",
      "source": [
        "dtc_model = dtc.fit(train_data)\n",
        "rfc_model = rfc.fit(train_data)\n",
        "gbc_model = gbc.fit(train_data)"
      ],
      "metadata": {
        "id": "le84DAo9o1h_"
      },
      "execution_count": 82,
      "outputs": []
    },
    {
      "cell_type": "markdown",
      "source": [
        "### Model Comparison :"
      ],
      "metadata": {
        "id": "EODXHv8MphPo"
      }
    },
    {
      "cell_type": "code",
      "source": [
        "dtc_pred = dtc_model.transform(test_data)\n",
        "rfc_pred = rfc_model.transform(test_data)\n",
        "gbc_pred = gbc_model.transform(test_data)"
      ],
      "metadata": {
        "id": "ebYJLBZVpBBb"
      },
      "execution_count": 83,
      "outputs": []
    },
    {
      "cell_type": "markdown",
      "source": [
        "Evaluation Metrics:"
      ],
      "metadata": {
        "id": "QcnQ2g8GqJFB"
      }
    },
    {
      "cell_type": "code",
      "source": [
        "from pyspark.ml.evaluation import MulticlassClassificationEvaluator"
      ],
      "metadata": {
        "id": "uyOZ9FGMp-XT"
      },
      "execution_count": 84,
      "outputs": []
    },
    {
      "cell_type": "code",
      "source": [
        "acc_eval = MulticlassClassificationEvaluator(predictionCol='prediction', labelCol='private_index', metricName='accuracy')\n",
        "recall_eval = MulticlassClassificationEvaluator(predictionCol='prediction', labelCol='private_index', metricName='weightedRecall')\n",
        "precision_eval = MulticlassClassificationEvaluator(predictionCol='prediction', labelCol='private_index', metricName='weightedPrecision')"
      ],
      "metadata": {
        "id": "S436HFD-q9h7"
      },
      "execution_count": 85,
      "outputs": []
    },
    {
      "cell_type": "code",
      "source": [
        "dtc_acc = acc_eval.evaluate(dtc_pred)\n",
        "dtc_recall = recall_eval.evaluate(dtc_pred)\n",
        "dtc_precision = precision_eval.evaluate(dtc_pred)\n",
        "\n",
        "rfc_acc = acc_eval.evaluate(rfc_pred)\n",
        "rfc_recall = recall_eval.evaluate(rfc_pred)\n",
        "rfc_precision = precision_eval.evaluate(rfc_pred)\n",
        "\n",
        "gbc_acc = acc_eval.evaluate(gbc_pred)\n",
        "gbc_recall = recall_eval.evaluate(gbc_pred)\n",
        "gbc_precision = precision_eval.evaluate(gbc_pred)"
      ],
      "metadata": {
        "id": "WYHc1hMHsGZn"
      },
      "execution_count": 86,
      "outputs": []
    },
    {
      "cell_type": "code",
      "source": [
        "print(\"Here are the results!\")\n",
        "print('-'*80)\n",
        "print('A single decision tree had an accuracy of: {0:2.2f}%'.format(dtc_acc*100))\n",
        "print('-'*80)\n",
        "print('A random forest ensemble had an accuracy of: {0:2.2f}%'.format(rfc_acc*100))\n",
        "print('-'*80)\n",
        "print('A ensemble using GBT had an accuracy of: {0:2.2f}%'.format(gbc_acc*100))"
      ],
      "metadata": {
        "colab": {
          "base_uri": "https://localhost:8080/"
        },
        "id": "65i04a-EtE0c",
        "outputId": "932fe5dc-a2c7-4605-9506-6603b19a7e16"
      },
      "execution_count": 87,
      "outputs": [
        {
          "output_type": "stream",
          "name": "stdout",
          "text": [
            "Here are the results!\n",
            "--------------------------------------------------------------------------------\n",
            "A single decision tree had an accuracy of: 92.08%\n",
            "--------------------------------------------------------------------------------\n",
            "A random forest ensemble had an accuracy of: 95.42%\n",
            "--------------------------------------------------------------------------------\n",
            "A ensemble using GBT had an accuracy of: 93.33%\n"
          ]
        }
      ]
    },
    {
      "cell_type": "code",
      "source": [
        "print(\"Here are the results!\")\n",
        "print('-'*80)\n",
        "print('A single decision tree had an weighted Recall of: {0:2.2f}%'.format(dtc_recall*100))\n",
        "print('-'*80)\n",
        "print('A random forest ensemble had an weighted Recall of: {0:2.2f}%'.format(rfc_recall*100))\n",
        "print('-'*80)\n",
        "print('A ensemble using GBT had an weighted Recall of: {0:2.2f}%'.format(gbc_recall*100))"
      ],
      "metadata": {
        "colab": {
          "base_uri": "https://localhost:8080/"
        },
        "id": "1iABrS6htx3z",
        "outputId": "f7c1c3e9-406f-4c32-be89-dd411e8e5aca"
      },
      "execution_count": 88,
      "outputs": [
        {
          "output_type": "stream",
          "name": "stdout",
          "text": [
            "Here are the results!\n",
            "--------------------------------------------------------------------------------\n",
            "A single decision tree had an weighted Recall of: 92.08%\n",
            "--------------------------------------------------------------------------------\n",
            "A random forest ensemble had an weighted Recall of: 95.42%\n",
            "--------------------------------------------------------------------------------\n",
            "A ensemble using GBT had an weighted Recall of: 93.33%\n"
          ]
        }
      ]
    },
    {
      "cell_type": "code",
      "source": [
        "print(\"Here are the results!\")\n",
        "print('-'*80)\n",
        "print('A single decision tree had an weighted Precision of: {0:2.2f}%'.format(dtc_precision*100))\n",
        "print('-'*80)\n",
        "print('A random forest ensemble had an weighted Precision of: {0:2.2f}%'.format(rfc_precision*100))\n",
        "print('-'*80)\n",
        "print('A ensemble using GBT had an weighted Precision of: {0:2.2f}%'.format(gbc_precision*100))"
      ],
      "metadata": {
        "colab": {
          "base_uri": "https://localhost:8080/"
        },
        "id": "_brawtv2t7Mz",
        "outputId": "0144ea59-3a2c-4bf9-b7f3-f5118171f86b"
      },
      "execution_count": 89,
      "outputs": [
        {
          "output_type": "stream",
          "name": "stdout",
          "text": [
            "Here are the results!\n",
            "--------------------------------------------------------------------------------\n",
            "A single decision tree had an weighted Precision of: 92.99%\n",
            "--------------------------------------------------------------------------------\n",
            "A random forest ensemble had an weighted Precision of: 95.45%\n",
            "--------------------------------------------------------------------------------\n",
            "A ensemble using GBT had an weighted Precision of: 94.07%\n"
          ]
        }
      ]
    },
    {
      "cell_type": "code",
      "source": [],
      "metadata": {
        "id": "XbfRF0i0uMzU"
      },
      "execution_count": 80,
      "outputs": []
    }
  ]
}
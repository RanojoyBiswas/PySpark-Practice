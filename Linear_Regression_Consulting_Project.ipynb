{
  "cells": [
    {
      "cell_type": "markdown",
      "metadata": {
        "id": "view-in-github",
        "colab_type": "text"
      },
      "source": [
        "<a href=\"https://colab.research.google.com/github/RanojoyBiswas/PySpark-Practice/blob/main/Linear_Regression_Consulting_Project.ipynb\" target=\"_parent\"><img src=\"https://colab.research.google.com/assets/colab-badge.svg\" alt=\"Open In Colab\"/></a>"
      ]
    },
    {
      "cell_type": "markdown",
      "metadata": {
        "id": "w6T6RlT-vveA"
      },
      "source": [
        "# Linear Regression Consulting Project"
      ]
    },
    {
      "cell_type": "markdown",
      "metadata": {
        "collapsed": true,
        "id": "ckAg7KoevveF"
      },
      "source": [
        "Congratulations! You've been contracted by Hyundai Heavy Industries to help them build a predictive model for some ships. [Hyundai Heavy Industries](http://www.hyundai.eu/en) is one of the world's largest ship manufacturing companies and builds cruise liners.\n",
        "\n",
        "You've been flown to their headquarters in Ulsan, South Korea to help them give accurate estimates of how many crew members a ship will require.\n",
        "\n",
        "They are currently building new ships for some customers and want you to create a model and use it to predict how many crew members the ships will need.\n",
        "\n",
        "Here is what the data looks like so far:\n",
        "\n",
        "    Description: Measurements of ship size, capacity, crew, and age for 158 cruise\n",
        "    ships.\n",
        "\n",
        "\n",
        "    Variables/Columns\n",
        "    Ship Name     1-20\n",
        "    Cruise Line   21-40\n",
        "    Age (as of 2013)   46-48\n",
        "    Tonnage (1000s of tons)   50-56\n",
        "    passengers (100s)   58-64\n",
        "    Length (100s of feet)  66-72\n",
        "    Cabins  (100s)   74-80\n",
        "    Passenger Density   82-88\n",
        "    Crew  (100s)   90-96\n",
        "    \n",
        "It is saved in a csv file for you called \"cruise_ship_info.csv\". Your job is to create a regression model that will help predict how many crew members will be needed for future ships. The client also mentioned that they have found that particular cruise lines will differ in acceptable crew counts, so it is most likely an important feature to include in your analysis! \n",
        "\n",
        "Once you've created the model and tested it for a quick check on how well you can expect it to perform, make sure you take a look at why it performs so well!"
      ]
    },
    {
      "cell_type": "code",
      "source": [
        "pip install pyspark"
      ],
      "metadata": {
        "id": "zjd826xpv1nE"
      },
      "execution_count": null,
      "outputs": []
    },
    {
      "cell_type": "code",
      "source": [
        "# spark session\n",
        "from pyspark.sql import SparkSession\n",
        "spark = SparkSession.builder.appName('Cons_Lin').getOrCreate()"
      ],
      "metadata": {
        "id": "Gb0fioEDvylM"
      },
      "execution_count": null,
      "outputs": []
    },
    {
      "cell_type": "code",
      "source": [
        "import matplotlib.pyplot as plt\n",
        "import seaborn as sns\n",
        "import numpy as np\n",
        "import pandas as pd"
      ],
      "metadata": {
        "id": "xShLwBLvzRDK"
      },
      "execution_count": null,
      "outputs": []
    },
    {
      "cell_type": "code",
      "source": [
        "from google.colab import drive\n",
        "drive.mount('/content/drive')"
      ],
      "metadata": {
        "colab": {
          "base_uri": "https://localhost:8080/"
        },
        "id": "SrMhsw_HwaYO",
        "outputId": "325802d8-f591-4343-b0e1-51ff199d95bd"
      },
      "execution_count": null,
      "outputs": [
        {
          "output_type": "stream",
          "name": "stdout",
          "text": [
            "Mounted at /content/drive\n"
          ]
        }
      ]
    },
    {
      "cell_type": "code",
      "source": [
        "df = spark.read.csv('/content/drive/MyDrive/Pyspark Practice/Python-and-Spark-for-Big-Data-master/Spark_for_Machine_Learning/Linear_Regression/cruise_ship_info.csv',\n",
        "                    inferSchema = True, header = True)"
      ],
      "metadata": {
        "id": "urOpF2oIwUvw"
      },
      "execution_count": null,
      "outputs": []
    },
    {
      "cell_type": "code",
      "source": [
        "df.printSchema()"
      ],
      "metadata": {
        "colab": {
          "base_uri": "https://localhost:8080/"
        },
        "id": "BhsDKlnkxMP3",
        "outputId": "ac186f7d-d550-481f-9730-4139638ca028"
      },
      "execution_count": null,
      "outputs": [
        {
          "output_type": "stream",
          "name": "stdout",
          "text": [
            "root\n",
            " |-- Ship_name: string (nullable = true)\n",
            " |-- Cruise_line: string (nullable = true)\n",
            " |-- Age: integer (nullable = true)\n",
            " |-- Tonnage: double (nullable = true)\n",
            " |-- passengers: double (nullable = true)\n",
            " |-- length: double (nullable = true)\n",
            " |-- cabins: double (nullable = true)\n",
            " |-- passenger_density: double (nullable = true)\n",
            " |-- crew: double (nullable = true)\n",
            "\n"
          ]
        }
      ]
    },
    {
      "cell_type": "code",
      "source": [
        "for i in df.head(5):\n",
        "  print(i,'\\n')"
      ],
      "metadata": {
        "colab": {
          "base_uri": "https://localhost:8080/"
        },
        "id": "rqtfYcfXxPC2",
        "outputId": "a0356673-26cf-4515-cdfb-8ee10f8f386c"
      },
      "execution_count": null,
      "outputs": [
        {
          "output_type": "stream",
          "name": "stdout",
          "text": [
            "Row(Ship_name='Journey', Cruise_line='Azamara', Age=6, Tonnage=30.276999999999997, passengers=6.94, length=5.94, cabins=3.55, passenger_density=42.64, crew=3.55) \n",
            "\n",
            "Row(Ship_name='Quest', Cruise_line='Azamara', Age=6, Tonnage=30.276999999999997, passengers=6.94, length=5.94, cabins=3.55, passenger_density=42.64, crew=3.55) \n",
            "\n",
            "Row(Ship_name='Celebration', Cruise_line='Carnival', Age=26, Tonnage=47.262, passengers=14.86, length=7.22, cabins=7.43, passenger_density=31.8, crew=6.7) \n",
            "\n",
            "Row(Ship_name='Conquest', Cruise_line='Carnival', Age=11, Tonnage=110.0, passengers=29.74, length=9.53, cabins=14.88, passenger_density=36.99, crew=19.1) \n",
            "\n",
            "Row(Ship_name='Destiny', Cruise_line='Carnival', Age=17, Tonnage=101.353, passengers=26.42, length=8.92, cabins=13.21, passenger_density=38.36, crew=10.0) \n",
            "\n"
          ]
        }
      ]
    },
    {
      "cell_type": "code",
      "source": [
        "df.describe().show()"
      ],
      "metadata": {
        "colab": {
          "base_uri": "https://localhost:8080/"
        },
        "id": "dlR5FKTJxci-",
        "outputId": "8c4b65f6-2186-4918-8f64-ffe3c767789e"
      },
      "execution_count": null,
      "outputs": [
        {
          "output_type": "stream",
          "name": "stdout",
          "text": [
            "+-------+---------+-----------+------------------+------------------+-----------------+-----------------+------------------+-----------------+-----------------+\n",
            "|summary|Ship_name|Cruise_line|               Age|           Tonnage|       passengers|           length|            cabins|passenger_density|             crew|\n",
            "+-------+---------+-----------+------------------+------------------+-----------------+-----------------+------------------+-----------------+-----------------+\n",
            "|  count|      158|        158|               158|               158|              158|              158|               158|              158|              158|\n",
            "|   mean| Infinity|       null|15.689873417721518| 71.28467088607599|18.45740506329114|8.130632911392404| 8.830000000000005|39.90094936708861|7.794177215189873|\n",
            "| stddev|     null|       null| 7.615691058751413|37.229540025907866|9.677094775143416|1.793473548054825|4.4714172221480615| 8.63921711391542|3.503486564627034|\n",
            "|    min|Adventure|    Azamara|                 4|             2.329|             0.66|             2.79|              0.33|             17.7|             0.59|\n",
            "|    max|Zuiderdam|   Windstar|                48|             220.0|             54.0|            11.82|              27.0|            71.43|             21.0|\n",
            "+-------+---------+-----------+------------------+------------------+-----------------+-----------------+------------------+-----------------+-----------------+\n",
            "\n"
          ]
        }
      ]
    },
    {
      "cell_type": "code",
      "source": [
        "# crew column\n",
        "sns.displot(df.select('crew').toPandas(), kde= True)\n",
        "plt.show()"
      ],
      "metadata": {
        "colab": {
          "base_uri": "https://localhost:8080/",
          "height": 369
        },
        "id": "7FEP8VvOyWUV",
        "outputId": "03ff1081-bac6-432f-90d5-85dc12af0fb4"
      },
      "execution_count": null,
      "outputs": [
        {
          "output_type": "display_data",
          "data": {
            "text/plain": [
              "<Figure size 419.625x360 with 1 Axes>"
            ],
            "image/png": "[encoded data removed]"
          },
          "metadata": {
            "needs_background": "light"
          }
        }
      ]
    },
    {
      "cell_type": "code",
      "source": [
        "# Cruise_line feature ---> Count of each Cruise_line\n",
        "df.groupBy('Cruise_line').count().orderBy('count', ascending = False).show()\n",
        "cl_df = df.groupBy('Cruise_line').count().toPandas()\n",
        "\n",
        "plt.figure(figsize = (10,5))\n",
        "sns.barplot(x = 'Cruise_line', y = 'count', data = cl_df)\n",
        "# rotate the x-axis labels to avoid overlapping\n",
        "plt.xticks(rotation=90)\n",
        "# show the plot\n",
        "plt.show()"
      ],
      "metadata": {
        "colab": {
          "base_uri": "https://localhost:8080/",
          "height": 880
        },
        "id": "oO6qQKRVyKK9",
        "outputId": "d2321c90-07a8-416e-c42b-d66fd163f497"
      },
      "execution_count": null,
      "outputs": [
        {
          "output_type": "stream",
          "name": "stdout",
          "text": [
            "+-----------------+-----+\n",
            "|      Cruise_line|count|\n",
            "+-----------------+-----+\n",
            "|  Royal_Caribbean|   23|\n",
            "|         Carnival|   22|\n",
            "|         Princess|   17|\n",
            "| Holland_American|   14|\n",
            "|        Norwegian|   13|\n",
            "|            Costa|   11|\n",
            "|        Celebrity|   10|\n",
            "|              MSC|    8|\n",
            "|              P&O|    6|\n",
            "|             Star|    6|\n",
            "|Regent_Seven_Seas|    5|\n",
            "|        Silversea|    4|\n",
            "|         Seabourn|    3|\n",
            "|         Windstar|    3|\n",
            "|           Cunard|    3|\n",
            "|          Oceania|    3|\n",
            "|          Crystal|    2|\n",
            "|          Azamara|    2|\n",
            "|           Disney|    2|\n",
            "|           Orient|    1|\n",
            "+-----------------+-----+\n",
            "\n"
          ]
        },
        {
          "output_type": "display_data",
          "data": {
            "text/plain": [
              "<Figure size 720x360 with 1 Axes>"
            ],
            "image/png": "[encoded data removed]"
          },
          "metadata": {
            "needs_background": "light"
          }
        }
      ]
    },
    {
      "cell_type": "code",
      "source": [
        "# dealing with categorical feature 'Cruise_line'\n",
        "from pyspark.ml.feature import StringIndexer\n",
        "\n",
        "encoder = StringIndexer(inputCol = 'Cruise_line',\n",
        "                        outputCol = 'Cruise_line_indexed')\n",
        "encoded = encoder.fit(df).transform(df)\n",
        "\n",
        "encoded.show()"
      ],
      "metadata": {
        "colab": {
          "base_uri": "https://localhost:8080/"
        },
        "id": "PXIH18lxzJ-t",
        "outputId": "c02b225e-4674-489a-8193-b888abc7ead3"
      },
      "execution_count": null,
      "outputs": [
        {
          "output_type": "stream",
          "name": "stdout",
          "text": [
            "+-----------+-----------+---+------------------+----------+------+------+-----------------+----+-------------------+\n",
            "|  Ship_name|Cruise_line|Age|           Tonnage|passengers|length|cabins|passenger_density|crew|Cruise_line_indexed|\n",
            "+-----------+-----------+---+------------------+----------+------+------+-----------------+----+-------------------+\n",
            "|    Journey|    Azamara|  6|30.276999999999997|      6.94|  5.94|  3.55|            42.64|3.55|               16.0|\n",
            "|      Quest|    Azamara|  6|30.276999999999997|      6.94|  5.94|  3.55|            42.64|3.55|               16.0|\n",
            "|Celebration|   Carnival| 26|            47.262|     14.86|  7.22|  7.43|             31.8| 6.7|                1.0|\n",
            "|   Conquest|   Carnival| 11|             110.0|     29.74|  9.53| 14.88|            36.99|19.1|                1.0|\n",
            "|    Destiny|   Carnival| 17|           101.353|     26.42|  8.92| 13.21|            38.36|10.0|                1.0|\n",
            "|    Ecstasy|   Carnival| 22|            70.367|     20.52|  8.55|  10.2|            34.29| 9.2|                1.0|\n",
            "|    Elation|   Carnival| 15|            70.367|     20.52|  8.55|  10.2|            34.29| 9.2|                1.0|\n",
            "|    Fantasy|   Carnival| 23|            70.367|     20.56|  8.55| 10.22|            34.23| 9.2|                1.0|\n",
            "|Fascination|   Carnival| 19|            70.367|     20.52|  8.55|  10.2|            34.29| 9.2|                1.0|\n",
            "|    Freedom|   Carnival|  6|110.23899999999999|      37.0|  9.51| 14.87|            29.79|11.5|                1.0|\n",
            "|      Glory|   Carnival| 10|             110.0|     29.74|  9.51| 14.87|            36.99|11.6|                1.0|\n",
            "|    Holiday|   Carnival| 28|            46.052|     14.52|  7.27|  7.26|            31.72| 6.6|                1.0|\n",
            "|Imagination|   Carnival| 18|            70.367|     20.52|  8.55|  10.2|            34.29| 9.2|                1.0|\n",
            "|Inspiration|   Carnival| 17|            70.367|     20.52|  8.55|  10.2|            34.29| 9.2|                1.0|\n",
            "|     Legend|   Carnival| 11|              86.0|     21.24|  9.63| 10.62|            40.49| 9.3|                1.0|\n",
            "|   Liberty*|   Carnival|  8|             110.0|     29.74|  9.51| 14.87|            36.99|11.6|                1.0|\n",
            "|    Miracle|   Carnival|  9|              88.5|     21.24|  9.63| 10.62|            41.67|10.3|                1.0|\n",
            "|   Paradise|   Carnival| 15|            70.367|     20.52|  8.55|  10.2|            34.29| 9.2|                1.0|\n",
            "|      Pride|   Carnival| 12|              88.5|     21.24|  9.63| 11.62|            41.67| 9.3|                1.0|\n",
            "|  Sensation|   Carnival| 20|            70.367|     20.52|  8.55|  10.2|            34.29| 9.2|                1.0|\n",
            "+-----------+-----------+---+------------------+----------+------+------+-----------------+----+-------------------+\n",
            "only showing top 20 rows\n",
            "\n"
          ]
        }
      ]
    },
    {
      "cell_type": "code",
      "source": [
        "encoded.columns"
      ],
      "metadata": {
        "colab": {
          "base_uri": "https://localhost:8080/"
        },
        "id": "C_KJ4RhW3gle",
        "outputId": "495b8dd8-c550-4148-f9ea-34e4e21ac351"
      },
      "execution_count": null,
      "outputs": [
        {
          "output_type": "execute_result",
          "data": {
            "text/plain": [
              "['Ship_name',\n",
              " 'Cruise_line',\n",
              " 'Age',\n",
              " 'Tonnage',\n",
              " 'passengers',\n",
              " 'length',\n",
              " 'cabins',\n",
              " 'passenger_density',\n",
              " 'crew',\n",
              " 'Cruise_line_indexed']"
            ]
          },
          "metadata": {},
          "execution_count": 54
        }
      ]
    },
    {
      "cell_type": "code",
      "source": [
        "from pyspark.ml.linalg import Vectors\n",
        "from pyspark.ml.feature import VectorAssembler"
      ],
      "metadata": {
        "id": "qoc57l2b4oEC"
      },
      "execution_count": null,
      "outputs": []
    },
    {
      "cell_type": "code",
      "source": [
        "assembler = VectorAssembler(inputCols = ['Age',\n",
        " 'Tonnage',\n",
        " 'passengers',\n",
        " 'length',\n",
        " 'cabins',\n",
        " 'passenger_density',\n",
        " 'Cruise_line_indexed'], outputCol = 'features')\n",
        "\n",
        "all_features = assembler.transform(encoded)"
      ],
      "metadata": {
        "id": "0vDgXPZP4zIq"
      },
      "execution_count": null,
      "outputs": []
    },
    {
      "cell_type": "code",
      "source": [
        "data = all_features.select(['features', 'crew'])"
      ],
      "metadata": {
        "id": "btp5IxIM7wJk"
      },
      "execution_count": null,
      "outputs": []
    },
    {
      "cell_type": "code",
      "source": [
        "# scaling the features\n",
        "from pyspark.ml.feature import StandardScaler\n",
        "\n",
        "scaler = StandardScaler(inputCol = 'features', outputCol='scaled_features', withMean = True, withStd = True)\n",
        "scaled_data = scaler.fit(data).transform(data)"
      ],
      "metadata": {
        "id": "vdoAhYeT8BDY"
      },
      "execution_count": null,
      "outputs": []
    },
    {
      "cell_type": "code",
      "source": [
        "# after scaling features\n",
        "final_data = scaled_data.select(['scaled_features', 'crew'])\n",
        "final_data.show()"
      ],
      "metadata": {
        "colab": {
          "base_uri": "https://localhost:8080/"
        },
        "id": "BNzdxqTt9E64",
        "outputId": "13d0733a-81b8-4be9-ceed-b7e1c4daa5f0"
      },
      "execution_count": null,
      "outputs": [
        {
          "output_type": "stream",
          "name": "stdout",
          "text": [
            "+--------------------+----+\n",
            "|     scaled_features|crew|\n",
            "+--------------------+----+\n",
            "|[-1.2723564208380...|3.55|\n",
            "|[-1.2723564208380...|3.55|\n",
            "|[1.35380052876893...| 6.7|\n",
            "|[-0.6158171834363...|19.1|\n",
            "|[0.17202990144577...|10.0|\n",
            "|[0.82856913884752...| 9.2|\n",
            "|[-0.0905857935149...| 9.2|\n",
            "|[0.95987698632787...| 9.2|\n",
            "|[0.43464559640647...| 9.2|\n",
            "|[-1.2723564208380...|11.5|\n",
            "|[-0.7471250309166...|11.6|\n",
            "|[1.61641622372963...| 6.6|\n",
            "|[0.30333774892612...| 9.2|\n",
            "|[0.17202990144577...| 9.2|\n",
            "|[-0.6158171834363...| 9.3|\n",
            "|[-1.0097407258773...|11.6|\n",
            "|[-0.8784328783970...|10.3|\n",
            "|[-0.0905857935149...| 9.2|\n",
            "|[-0.4845093359559...| 9.3|\n",
            "|[0.56595344388682...| 9.2|\n",
            "+--------------------+----+\n",
            "only showing top 20 rows\n",
            "\n"
          ]
        }
      ]
    },
    {
      "cell_type": "code",
      "source": [
        "# train-test split\n",
        "train_data, test_data = final_data.randomSplit([0.7,0.3])"
      ],
      "metadata": {
        "id": "OJYA2IEh9Hkw"
      },
      "execution_count": null,
      "outputs": []
    },
    {
      "cell_type": "code",
      "source": [
        "train_data.describe().show()\n",
        "test_data.describe().show()"
      ],
      "metadata": {
        "colab": {
          "base_uri": "https://localhost:8080/"
        },
        "id": "u8aMHLhA9yzR",
        "outputId": "92e4cdd2-9f1b-4240-871a-f2bc4c69b456"
      },
      "execution_count": null,
      "outputs": [
        {
          "output_type": "stream",
          "name": "stdout",
          "text": [
            "+-------+------------------+\n",
            "|summary|              crew|\n",
            "+-------+------------------+\n",
            "|  count|               114|\n",
            "|   mean| 7.944210526315801|\n",
            "| stddev|3.6771063784065734|\n",
            "|    min|              0.59|\n",
            "|    max|              21.0|\n",
            "+-------+------------------+\n",
            "\n",
            "+-------+------------------+\n",
            "|summary|              crew|\n",
            "+-------+------------------+\n",
            "|  count|                44|\n",
            "|   mean| 7.405454545454546|\n",
            "| stddev|3.0115409441598087|\n",
            "|    min|              0.59|\n",
            "|    max|              12.0|\n",
            "+-------+------------------+\n",
            "\n"
          ]
        }
      ]
    },
    {
      "cell_type": "code",
      "source": [
        "# importing Linear Regression\n",
        "from pyspark.ml.regression import LinearRegression\n",
        "\n",
        "lr = LinearRegression(featuresCol = 'scaled_features', labelCol='crew')"
      ],
      "metadata": {
        "id": "Ad1lS8Bg95G4"
      },
      "execution_count": null,
      "outputs": []
    },
    {
      "cell_type": "code",
      "source": [
        "# training linear model\n",
        "model = lr.fit(train_data)\n",
        "\n",
        "# model intercept and coefficients\n",
        "print(f'Model Coefficients : {model.coefficients}')\n",
        "print(f'Model Intercept : {model.intercept}')"
      ],
      "metadata": {
        "colab": {
          "base_uri": "https://localhost:8080/"
        },
        "id": "dHlb7rCSB_6p",
        "outputId": "8b46b0ef-9e92-42e9-9876-11c578cdfd78"
      },
      "execution_count": null,
      "outputs": [
        {
          "output_type": "stream",
          "name": "stdout",
          "text": [
            "Model Coefficients : [-0.12825227202109626,0.5292770493451763,-1.5574268281544024,0.7168822327216288,3.799515448161428,-0.06315203033830483,0.2546001328998126]\n",
            "Model Intercept : 7.772020311982774\n"
          ]
        }
      ]
    },
    {
      "cell_type": "code",
      "source": [
        "test_res = model.evaluate(test_data)\n",
        "type(test_res)"
      ],
      "metadata": {
        "colab": {
          "base_uri": "https://localhost:8080/"
        },
        "id": "seIrG-SwCOZ1",
        "outputId": "28299a75-f90f-4e77-fa33-bb15d472c25c"
      },
      "execution_count": null,
      "outputs": [
        {
          "output_type": "execute_result",
          "data": {
            "text/plain": [
              "pyspark.ml.regression.LinearRegressionSummary"
            ]
          },
          "metadata": {},
          "execution_count": 77
        }
      ]
    },
    {
      "cell_type": "code",
      "source": [
        "print(f'Mean Squared Error : {test_res.meanSquaredError}')\n",
        "print(f'Root Mean Squared Error : {test_res.rootMeanSquaredError}')\n",
        "print(f'Mean Absolute Error : {test_res.meanAbsoluteError}')\n",
        "print(f'R-Squared Value : {test_res.r2}')\n",
        "print(f'Adj R-Squared Value : {test_res.r2adj}')"
      ],
      "metadata": {
        "colab": {
          "base_uri": "https://localhost:8080/"
        },
        "id": "tL9iMYT1D0_N",
        "outputId": "8ba4a06e-019b-4628-f9e5-366af50c4855"
      },
      "execution_count": null,
      "outputs": [
        {
          "output_type": "stream",
          "name": "stdout",
          "text": [
            "Mean Squared Error : 0.5596461475560189\n",
            "Root Mean Squared Error : 0.7480950123854716\n",
            "Mean Absolute Error : 0.5330163163250562\n",
            "R-Squared Value : 0.9368577293784491\n",
            "Adj R-Squared Value : 0.9245800656464809\n"
          ]
        }
      ]
    },
    {
      "cell_type": "code",
      "source": [
        "unlabeled_data = test_data.select('scaled_features')\n",
        "pred = model.transform(unlabeled_data)\n",
        "\n",
        "joined = test_data.join(pred, 'scaled_features')\n",
        "joined.show()"
      ],
      "metadata": {
        "colab": {
          "base_uri": "https://localhost:8080/"
        },
        "id": "DbjtA04MFnFM",
        "outputId": "b7f47e0d-f070-43b9-9cdd-77ef0aa7ca63"
      },
      "execution_count": null,
      "outputs": [
        {
          "output_type": "stream",
          "name": "stdout",
          "text": [
            "+--------------------+-----+------------------+\n",
            "|     scaled_features| crew|        prediction|\n",
            "+--------------------+-----+------------------+\n",
            "|[-1.4036642683184...|  8.0|    9.300660247779|\n",
            "|[-1.2723564208380...| 3.55| 4.408698195962266|\n",
            "|[-1.2723564208380...|  9.0|10.130789164401275|\n",
            "|[-1.2723564208380...| 11.5|11.045032929658875|\n",
            "|[-1.2723564208380...| 10.9|11.235939573533393|\n",
            "|[-1.0097407258773...| 11.6|12.123743439687683|\n",
            "|[-0.8784328783970...| 10.0|    9.538838029305|\n",
            "|[-0.8784328783970...| 11.6|12.110900081957727|\n",
            "|[-0.7471250309166...|  7.0| 7.307241263152261|\n",
            "|[-0.7471250309166...|  9.0| 8.798084566225986|\n",
            "|[-0.6158171834363...|  7.6| 7.432617637360405|\n",
            "|[-0.6158171834363...| 11.0|10.044808434363208|\n",
            "|[-0.6158171834363...|  9.0|  9.20927745026278|\n",
            "|[-0.4845093359559...|  0.6| 0.646173942053685|\n",
            "|[-0.4845093359559...|  6.8| 6.686199937130313|\n",
            "|[-0.4845093359559...|10.29|  9.47011232408521|\n",
            "|[-0.4845093359559...| 8.68| 8.818793100614919|\n",
            "|[-0.4845093359559...| 9.99| 9.218201704251728|\n",
            "|[-0.3532014884756...|  8.5| 8.758639964743393|\n",
            "|[-0.3532014884756...|11.76|12.975825381827196|\n",
            "+--------------------+-----+------------------+\n",
            "only showing top 20 rows\n",
            "\n"
          ]
        }
      ]
    },
    {
      "cell_type": "code",
      "source": [
        "df_pd = joined.select('crew', 'prediction').toPandas()\n",
        "\n",
        "# Create scatter plot using seaborn\n",
        "sns.scatterplot(data=df_pd, x='crew', y='prediction')\n",
        "plt.show()"
      ],
      "metadata": {
        "colab": {
          "base_uri": "https://localhost:8080/",
          "height": 279
        },
        "id": "Y-9UnC_cIcgz",
        "outputId": "3df4f0dd-48fb-4dd2-e3c3-d8f9855bd5c4"
      },
      "execution_count": null,
      "outputs": [
        {
          "output_type": "display_data",
          "data": {
            "text/plain": [
              "<Figure size 432x288 with 1 Axes>"
            ],
            "image/png": "[encoded data removed]"
          },
          "metadata": {
            "needs_background": "light"
          }
        }
      ]
    },
    {
      "cell_type": "code",
      "source": [
        "# Extract the actual and predicted values from the dataframe\n",
        "actual = joined.select('crew').rdd.flatMap(lambda x: x).collect()\n",
        "predicted = joined.select('prediction').rdd.flatMap(lambda x: x).collect()\n",
        "\n",
        "# Create a scatter plot of predicted vs. actual values\n",
        "plt.scatter(predicted, actual)\n",
        "plt.xlabel('Predicted')\n",
        "plt.ylabel('Actual')\n",
        "plt.title('Predicted vs. Actual')\n",
        "plt.show()"
      ],
      "metadata": {
        "colab": {
          "base_uri": "https://localhost:8080/",
          "height": 295
        },
        "id": "fUHZLHukKJbZ",
        "outputId": "bb0786ab-8c2a-4fa1-dd45-b7ba32354c62"
      },
      "execution_count": null,
      "outputs": [
        {
          "output_type": "display_data",
          "data": {
            "text/plain": [
              "<Figure size 432x288 with 1 Axes>"
            ],
            "image/png": "[encoded data removed]"
          },
          "metadata": {
            "needs_background": "light"
          }
        }
      ]
    },
    {
      "cell_type": "code",
      "source": [
        "from pyspark.sql.functions import corr"
      ],
      "metadata": {
        "id": "RXrF44v_Kp2q"
      },
      "execution_count": null,
      "outputs": []
    },
    {
      "cell_type": "code",
      "source": [
        "df.columns"
      ],
      "metadata": {
        "colab": {
          "base_uri": "https://localhost:8080/"
        },
        "id": "csU65DKXMsVG",
        "outputId": "e7b68f98-4b90-4dd8-ecd7-df36a995e7b3"
      },
      "execution_count": null,
      "outputs": [
        {
          "output_type": "execute_result",
          "data": {
            "text/plain": [
              "['Ship_name',\n",
              " 'Cruise_line',\n",
              " 'Age',\n",
              " 'Tonnage',\n",
              " 'passengers',\n",
              " 'length',\n",
              " 'cabins',\n",
              " 'passenger_density',\n",
              " 'crew']"
            ]
          },
          "metadata": {},
          "execution_count": 86
        }
      ]
    },
    {
      "cell_type": "code",
      "source": [
        "# coorelation between crew and tonnage\n",
        "df.select(corr('crew', 'Tonnage')).show()"
      ],
      "metadata": {
        "colab": {
          "base_uri": "https://localhost:8080/"
        },
        "id": "hCaqMruTMe05",
        "outputId": "913801e9-dac9-4022-c76a-531c36ddfab3"
      },
      "execution_count": null,
      "outputs": [
        {
          "output_type": "stream",
          "name": "stdout",
          "text": [
            "+-------------------+\n",
            "|corr(crew, Tonnage)|\n",
            "+-------------------+\n",
            "|  0.927568811544939|\n",
            "+-------------------+\n",
            "\n"
          ]
        }
      ]
    },
    {
      "cell_type": "code",
      "source": [
        "# coorelation between crew and cabins\n",
        "df.select(corr('crew', 'cabins')).show()"
      ],
      "metadata": {
        "colab": {
          "base_uri": "https://localhost:8080/"
        },
        "id": "WpN77sQVMvto",
        "outputId": "5703540b-44ea-4c20-de05-03729617442f"
      },
      "execution_count": null,
      "outputs": [
        {
          "output_type": "stream",
          "name": "stdout",
          "text": [
            "+------------------+\n",
            "|corr(crew, cabins)|\n",
            "+------------------+\n",
            "|0.9508226063578497|\n",
            "+------------------+\n",
            "\n"
          ]
        }
      ]
    },
    {
      "cell_type": "code",
      "source": [
        "# coorelation between crew and passengers\n",
        "df.select(corr('crew', 'passengers')).show()"
      ],
      "metadata": {
        "colab": {
          "base_uri": "https://localhost:8080/"
        },
        "id": "gCAwp6n2M9rp",
        "outputId": "9795b0ac-e423-42ab-c7be-274e7267f94d"
      },
      "execution_count": null,
      "outputs": [
        {
          "output_type": "stream",
          "name": "stdout",
          "text": [
            "+----------------------+\n",
            "|corr(crew, passengers)|\n",
            "+----------------------+\n",
            "|    0.9152341306065384|\n",
            "+----------------------+\n",
            "\n"
          ]
        }
      ]
    },
    {
      "cell_type": "code",
      "source": [],
      "metadata": {
        "id": "Gvt2QnRwNCao"
      },
      "execution_count": null,
      "outputs": []
    }
  ],
  "metadata": {
    "anaconda-cloud": {},
    "kernelspec": {
      "display_name": "Python [conda root]",
      "language": "python",
      "name": "conda-root-py"
    },
    "language_info": {
      "codemirror_mode": {
        "name": "ipython",
        "version": 3
      },
      "file_extension": ".py",
      "mimetype": "text/x-python",
      "name": "python",
      "nbconvert_exporter": "python",
      "pygments_lexer": "ipython3",
      "version": "3.5.3"
    },
    "colab": {
      "provenance": [],
      "include_colab_link": true
    }
  },
  "nbformat": 4,
  "nbformat_minor": 0
}